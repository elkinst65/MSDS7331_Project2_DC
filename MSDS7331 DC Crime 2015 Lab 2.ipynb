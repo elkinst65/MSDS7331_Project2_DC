{
 "cells": [
  {
   "cell_type": "markdown",
   "metadata": {},
   "source": [
    "# MSDS 7331 - Lab Two: Regress or Classify\n",
    "\n",
    "### Investigators\n",
    "- [Matt Baldree](mailto:mbaldree@smu.edu?subject=lab2)\n",
    "- [Tom Elkins](telkins@smu.edu?subject=lab2)\n",
    "- [Austin Kelly](ajkelly@smu.edu?subject=lab2)\n",
    "- [Murali Parthasarathy](mparthasarathy@smu.edu?subject=lab2)\n",
    "\n",
    "\n",
    "<div style='margin-left:10%;margin-right:10%;margin-top:15px;background-color:#d3d3d3;padding:5px;'>\n",
    "    <h3>Lab Instructions</h3>\n",
    "    <p>You are to build upon the predictive analysis that you already completed in the previous mini-project, adding additional modeling from new classification algorithms as well as more explanations that are inline with the CRISP-DM framework. You should use appropriate cross validation for all of your analysis (explain your chosen method of performance validation <i>in detail</i>). Try to use as much testing data as possible <i>in a realistic manner</i> (you should define what you think is realistic and why).</p>\n",
    "    <p>This report is worth 20% of the final grade. Please upload a report (one per team) with all code used, visualizations, and text in a single document. The results should be reproducible using your report. Please carefully describe every assumption and every step in your report.</p>\n",
    "    <p>Report Sections:</p>\n",
    "    <ol>\n",
    "        <li>[Data Preparation](#data_preparation) <b>(15 points)</b></li>\n",
    "        <li>[Modeling and Evaluation](#modeling_and_evaluation) <b>(70 points)</b></li>\n",
    "        <li>[Deployment](#deployment) <b>(5 points)</b></li>\n",
    "        <li>[Exceptional Work](#exceptional_work) <b>(10 points)</b></li>\n",
    "    </ol>\n",
    "</div>"
   ]
  },
  {
   "cell_type": "markdown",
   "metadata": {},
   "source": [
    "<a id='data_preparation'></a>\n",
    "## 1 - Data Preparation\n",
    "<div style='margin-left:10%;margin-right:10%;margin-top:15px;background-color:#d3d3d3;padding:10px;'>\n",
    "<h3>Data Preparation (<b>15 points total</b>)</h3>\n",
    "    <ul><li>[<b>10 points total</b>] [1.1 - Define and prepare your class variables](#define_and_prepare_class_variables). Use proper variable representations (int, float, one-hot, etc.). Use pre-processing methods (as needed) for dimensionality reductions, scaling, etc. Remove variables that are not needed/useful for the analysis.</li>\n",
    "    <li>[<b>5 points total</b>] [1.2 - Describe the final dataset](#describe_final_dataset) that is used for classification/regression (include a description of any newly formed variables you created.)</li>\n",
    "    </ul>\n",
    "</div>"
   ]
  },
  {
   "cell_type": "markdown",
   "metadata": {},
   "source": [
    "<a id='define_and_prepare_class_variables'></a>\n",
    "### 1.1 - Define and Prepare Class Variables\n",
    "The data set chosen for lab 2 is the 2015 Washington DC Metro Crime inspired from a Kaggle data set found at [Kaggle](https://www.kaggle.com/vinchinzu/dc-metro-crime-data). The data set was obtained by following the steps found on the [Using the Crime Map Application](http://mpdc.dc.gov/node/200622) page. This site allowed us to download data by political ward for all eight wards from 01/01/2015 to 12/31/2015 as CSV files. These individual ward files were then merged together into a single file for our use. This data set contains 36,493 entries and 18 attributes that are both continuous and discrete. This satisfies the data set requirement for a minimum of 30,000 entries and 10 attributes which are both continuous and discrete. Further definition of this data set will be discussed in the [Data Understanding](#data_understanding) section.\n",
    "\n",
    "The data is supplimented by weather and demographic data. For weather, data that corresponds to the end date of the crime obtained from [Wunderground](http://wunderground.com) to see if weather is a predictor or crimes in DC. For demographic, the number of people on food stamps in an adivsory neighborhood commission (ANC) for the year of the end date of the crime was obtained from [Neighborhood Info DC](http://www.neighborhoodinfodc.org/anc12/anc.html).\n",
    "\n",
    "![Ward Map](images/ANC_2012.jpg \"Washington DC ANC\") \n",
    "<p style='text-align: center;'>\n",
    "Washington DC Advisory Neighborhood Map\n",
    "</p>\n",
    "\n",
    "The crime data is published by the Washington DC Metro police department daily (see below image) to provide their residents a clear picture of crime trends as they actually happen. The data is shared with its residents such as Advisory Neighborhood Commissions, see above, to help the police determine how to keep neighborhoods safe. The data is also analyzed to determine the effectiveness of current investments such as putting more officers on the streets, buying police more tools, and launching community partnerships, see [Washington DC Metro Police Department report](http://mpdc.dc.gov/publication/mpd-annual-report-2015) for more details.\n",
    "\n",
    "![Ward Map](images/dc_2015_crime.tiff \"Washington DC Year End Crime Data\") \n",
    "<p style='text-align: center;'>\n",
    "Washington DC Metro 2015 Year End Crime Data\n",
    "</p>"
   ]
  },
  {
   "cell_type": "markdown",
   "metadata": {},
   "source": [
    "### 1.1.1 - Load Data"
   ]
  },
  {
   "cell_type": "code",
   "execution_count": 1,
   "metadata": {
    "collapsed": false
   },
   "outputs": [],
   "source": [
    "# generic imports\n",
    "import pandas as pd\n",
    "import numpy as np\n",
    "from __future__ import print_function\n",
    "\n",
    "# plotting setup\n",
    "%matplotlib inline\n",
    "import matplotlib.pyplot as plt\n",
    "plt.style.use('ggplot')\n",
    "\n",
    "import seaborn as sns\n",
    "sns.set(font_scale=1)\n",
    "cmap = sns.diverging_palette(220, 10, as_cmap=True) # one of the many color mappings\n",
    "\n",
    "# scikit imports\n",
    "from sklearn.linear_model import LogisticRegression\n",
    "from sklearn.model_selection import train_test_split\n",
    "from sklearn import metrics\n",
    "from sklearn.model_selection import cross_val_score\n",
    "from sklearn.model_selection import StratifiedKFold\n",
    "\n",
    "# Read in the crime data from the CSV file\n",
    "df = pd.read_csv('data/DC_Crime_2015_Lab2_Weather.csv')\n",
    "df_foodstamps = pd.read_csv('data/foodstamps.csv')"
   ]
  },
  {
   "cell_type": "code",
   "execution_count": 2,
   "metadata": {
    "collapsed": false
   },
   "outputs": [
    {
     "name": "stdout",
     "output_type": "stream",
     "text": [
      "<class 'pandas.core.frame.DataFrame'>\n",
      "RangeIndex: 36489 entries, 0 to 36488\n",
      "Data columns (total 33 columns):\n",
      "REPORT_DAT              36489 non-null object\n",
      "SHIFT                   36489 non-null object\n",
      "OFFENSE                 36489 non-null object\n",
      "METHOD                  36489 non-null object\n",
      "DISTRICT                36442 non-null float64\n",
      "PSA                     36441 non-null float64\n",
      "WARD                    36489 non-null int64\n",
      "ANC                     36489 non-null int64\n",
      "NEIGHBORHOOD_CLUSTER    36489 non-null int64\n",
      "CENSUS_TRACT            36489 non-null int64\n",
      "VOTING_PRECINCT         36489 non-null int64\n",
      "CCN                     36489 non-null int64\n",
      "XBLOCK                  36489 non-null float64\n",
      "YBLOCK                  36489 non-null float64\n",
      "START_DATE              36489 non-null object\n",
      "END_DATE                36489 non-null object\n",
      "PSA_ID                  36489 non-null int64\n",
      "DistrictID              36489 non-null int64\n",
      "SHIFT_Code              36489 non-null int64\n",
      "OFFENSE_Code            36489 non-null int64\n",
      "METHOD_Code             36489 non-null int64\n",
      "CRIME_TYPE              36489 non-null int64\n",
      "AGE                     36489 non-null int64\n",
      "TIME_TO_REPORT          36489 non-null int64\n",
      "Latitude                36489 non-null float64\n",
      "Longitude               36489 non-null float64\n",
      "Max_Temp                36489 non-null int64\n",
      "Min_Temp                36489 non-null int64\n",
      "Max_Humidity            36489 non-null int64\n",
      "Min_Humidity            36489 non-null int64\n",
      "Max_Pressure            36489 non-null float64\n",
      "Min_Pressure            36489 non-null float64\n",
      "Precipitation           36489 non-null float64\n",
      "dtypes: float64(9), int64(18), object(6)\n",
      "memory usage: 9.2+ MB\n"
     ]
    }
   ],
   "source": [
    "# how is the data represented?\n",
    "df.info()"
   ]
  },
  {
   "cell_type": "code",
   "execution_count": 3,
   "metadata": {
    "collapsed": false
   },
   "outputs": [
    {
     "name": "stdout",
     "output_type": "stream",
     "text": [
      "<class 'pandas.core.frame.DataFrame'>\n",
      "RangeIndex: 85 entries, 0 to 84\n",
      "Data columns (total 3 columns):\n",
      "YR             85 non-null int64\n",
      "ANC            85 non-null int64\n",
      "FOOD_STAMPS    85 non-null int64\n",
      "dtypes: int64(3)\n",
      "memory usage: 2.1 KB\n"
     ]
    }
   ],
   "source": [
    "df_foodstamps.info()"
   ]
  },
  {
   "cell_type": "markdown",
   "metadata": {},
   "source": [
    "### 1.1.2 - Attribute Details\n",
    "Remove unnecessary attributes and add attributes that might help us predict an offense."
   ]
  },
  {
   "cell_type": "markdown",
   "metadata": {},
   "source": [
    "#### Attributes to Remove\n",
    "The below table provides a description of attributes that will be removed because they provide little to no predictive power.\n",
    "\n",
    "|Attribute|Description|Removal Reason|\n",
    "|:------|:----------|:-------------|\n",
    "|REPORT_DAT| The date/time the offense was *reported*| When the crime was report is not a predictor of a crime.|\n",
    "|SHIFT| The duty shift that responded to the call.| This is an eight hour window that is too coarse grain.|\n",
    "|OFFENSE| The category of crime committed.| This attribute is redundant with OFFENSE_Code. It will be stored off for its labels.|\n",
    "|METHOD| A qualifier to the Offense that flags special considerations, such as the use of a gun| This attribute is redundant with OFFENSE_Code. It will be stored off for its labels.|\n",
    "|DISTRICT| The police district.| This attribute was replaced earlier preprocessing to create DistrictID.|\n",
    "|PSA| Police Service Area| This attribute was replaced earlier preprocessing to create PSA_ID.|\n",
    "|WARD| The political Ward identifier.| WARD can be derived from NEIGHBORHOOD_CLUSTER which provides a smaller geographic resolution.|\n",
    "|CENSUS_TRACT| Land management tract identifier.| This attribute is superceded by other geographical data.|\n",
    "|VOTING_PRECINCT| Political subdivision| This attribute is superceded by other geographical data.|\n",
    "|CCN| Criminal Complaint Number - unique to each report| An index for the crime report.|\n",
    "|XBLOCK| Eastern coordinate of crime scene (meters)| This attribute is superceded by lattitude and longitude.|\n",
    "|YBLOCK| Northern coordinate of crime scene (meters)| This attribute is superceded by lattitude and longitude.|\n",
    "|START_DATE| The earliest the crime *might* have been committed.| END_DATE provides a more accurate time when considering unwitness crimes.|\n",
    "|DistrictID| The police district.| Redundant with PSA_ID. DistrictID can be derived from PSA_ID.|\n",
    "|SHIFT_Code| The duty shift that responded to the call.| This is an eight hour window that is too coarse grain.|\n",
    "|METHOD_Code| A qualifier code to the Offense that flags special considerations, such as the use of a gun|This attribute will not be known until the crime is committed.|\n",
    "|CRIME_TYPE| A grouping category of violent or property for offences.| It can be derived from offense codes.|\n",
    "|AGE| The difference in end data and start date of the crime.| This attribute is unreliable due to the discrepency in start dates.|\n",
    "|TIME_TO_REPORT| The time it took for the police to report the crime.| This attribue represents action after the crime.|"
   ]
  },
  {
   "cell_type": "code",
   "execution_count": 4,
   "metadata": {
    "collapsed": false
   },
   "outputs": [
    {
     "name": "stdout",
     "output_type": "stream",
     "text": [
      "['THEFT/OTHER' 'THEFT F/AUTO' 'BURGLARY' 'ASSAULT W/DW' 'ROBBERY'\n",
      " 'MOTOR VEHICLE THEFT' 'HOMICIDE' 'SEX ABUSE' 'ARSON']\n"
     ]
    }
   ],
   "source": [
    "# save target description\n",
    "target_desc = df.OFFENSE.copy()\n",
    "\n",
    "print(target_desc.unique())"
   ]
  },
  {
   "cell_type": "code",
   "execution_count": 5,
   "metadata": {
    "collapsed": true
   },
   "outputs": [],
   "source": [
    "# remove attributes\n",
    "for attrib in ('REPORT_DAT', 'SHIFT', 'OFFENSE', 'METHOD', 'DISTRICT', 'PSA', 'WARD', 'CENSUS_TRACT', \n",
    "               'VOTING_PRECINCT', 'CCN', 'XBLOCK', 'YBLOCK', 'START_DATE', 'DistrictID', 'SHIFT_Code', \n",
    "               'METHOD_Code', 'CRIME_TYPE', 'AGE', 'TIME_TO_REPORT'):\n",
    "    if attrib in df:\n",
    "        del df[attrib]"
   ]
  },
  {
   "cell_type": "markdown",
   "metadata": {},
   "source": [
    "#### Attributes to Keep\n",
    "The below table provides a description of attributes that will remain for predicting crimes in DC.\n",
    "\n",
    "|Attribute|Description|Role|\n",
    "|:------|:----------------|:----:|\n",
    "|ANC| Advisory Neighborhood Commission that is a geo-political grouping.| Feature|\n",
    "|NEIGHBORHOOD_CLUSTER|Neighborhood identifier that subdivides police wards.| Feature|\n",
    "|END_DATE| The latest the crime *might* have been committed. This attribute will be broken down into day of week, month of year, and hour of the day.| Features|\n",
    "|PSA_ID| Police Service Area that breaks down WARDS differently than ANC and NEIGHBORHOOD_CLUSTER.| Feature|\n",
    "|OFFENSE_Code| The category code of crime committed. This is our target attribute.| Target|\n",
    "|Latitude| The angular distance of the crime North of the earth's equator| Feature|\n",
    "|Longitude| The angular distance of the crime West of the meridian at Greenwich, England| Feature|\n",
    "|Max_Temp| The maximum temperature for the END_DATE in Fahrenheit| Feature|\n",
    "|Min_Temp| The minimum temperature for the END_DATE in Fahrenheit| Feature|\n",
    "|Max_Humidity| The maximum humidity for the END_DATE in inches| Feature|\n",
    "|Min_Humidity| The minimum humidity for the END_DATE in inches| Feature|\n",
    "|Max_Pressure| The maximum sea level pressure for the END_DATE in inches| Feature|\n",
    "|Min_Pressure| The minimum sea level pressure for the END_DATE in inches| Feature|\n",
    "|Precipitation| The amount of percipitation for the END_DATE in inches| Feature|"
   ]
  },
  {
   "cell_type": "markdown",
   "metadata": {},
   "source": [
    "#### Attributes to Add\n",
    "\n",
    "The below table provides a description of attributes that will be added for predicting crimes in DC. Do these features help us predic a class of a crime?\n",
    "\n",
    "|Attribute|Description|Role|\n",
    "|:------|:----------------|:----:|\n",
    "|FOOD_STAMPS| The number of people on foodstamps for the year of the END_DATE| Feature|\n",
    "|CRIME_MONTH|The latest month the crime was comitted.| Feature|\n",
    "|CRIME_DAY| The latest day the crime was committed.| Feature|\n",
    "|CRIME_HOUR| The latest hour the crime was committed.| Feature|\n",
    "|MOON_PHASE| The moon phase where 0: New Moon, 1: Waxing Crescent, 2: First Quarter, 3: Waxing Gibbous, 4: Full Moon, 5: Waning Gibbous, 6: Last Quarter, and 7: Waning Crescent. Note: After later analysis, the feature is removed.| Feature|"
   ]
  },
  {
   "cell_type": "markdown",
   "metadata": {},
   "source": [
    "Merge the foodstamp data with our crime data. The foodstamp data is the number of people on foodstamps for a ANC for the year the crime's end date. All data was available accept for ANC 1A or 11 in our dataset. ANC 1A is neighbored by 1D, 1C, 1B, 4C, 5A, and 5E, see above figure. Therefore, the the average of 1A's neighbors was imputed."
   ]
  },
  {
   "cell_type": "code",
   "execution_count": 6,
   "metadata": {
    "collapsed": false
   },
   "outputs": [],
   "source": [
    "if 'END_DATE' in df:\n",
    "    # convert END_DATE to datetime\n",
    "    df.END_DATE = pd.to_datetime(df.END_DATE)\n",
    "    \n",
    "    # add YR to merge on with foodstamp df\n",
    "    df['YR'] = df.END_DATE.map(lambda x: x.year)\n",
    "    df.YR = df.YR.astype('int64')\n",
    "    \n",
    "    # merge foodstamp data into df\n",
    "    df = pd.merge(df, df_foodstamps, on=['ANC', 'YR'])\n",
    "    \n",
    "    # drop temp YR\n",
    "    del df['YR']"
   ]
  },
  {
   "cell_type": "markdown",
   "metadata": {},
   "source": [
    "Plot the number of the people on foodstamps per ANC."
   ]
  },
  {
   "cell_type": "code",
   "execution_count": 7,
   "metadata": {
    "collapsed": false
   },
   "outputs": [
    {
     "data": {
      "text/plain": [
       "<matplotlib.axes._subplots.AxesSubplot at 0x11455b810>"
      ]
     },
     "execution_count": 7,
     "metadata": {},
     "output_type": "execute_result"
    },
    {
     "data": {
      "image/png": "[encoded data removed]",
      "text/plain": [
       "<matplotlib.figure.Figure at 0x104441a90>"
      ]
     },
     "metadata": {},
     "output_type": "display_data"
    }
   ],
   "source": [
    "tmpdf = df[['FOOD_STAMPS', 'ANC']]\n",
    "sns.countplot(x='ANC', data=tmpdf)"
   ]
  },
  {
   "cell_type": "code",
   "execution_count": 8,
   "metadata": {
    "collapsed": false
   },
   "outputs": [],
   "source": [
    "if 'END_DATE' in df:\n",
    "    # convert END_DATE to datetime\n",
    "    df.END_DATE = pd.to_datetime(df.END_DATE)\n",
    "\n",
    "    # add the month of the crime\n",
    "    df['CRIME_MONTH'] = df.END_DATE.map(lambda x: x.month)\n",
    "    df.CRIME_MONTH = df.CRIME_MONTH.astype('int64')\n",
    "\n",
    "    # add day of the month\n",
    "    df['CRIME_DAY'] = df.END_DATE.map(lambda x:x.day)\n",
    "    df.CRIME_DAY = df.CRIME_DAY.astype('int64')\n",
    "\n",
    "    # add hour of the day\n",
    "    df['CRIME_HOUR'] = df.END_DATE.map(lambda x:x.hour)\n",
    "    df.CRIME_HOUR = df.CRIME_HOUR.astype('int64')"
   ]
  },
  {
   "cell_type": "code",
   "execution_count": 9,
   "metadata": {
    "collapsed": false
   },
   "outputs": [],
   "source": [
    "# calculate moon phase, http://en.wikipedia.org/wiki/Lunar_phase#Lunar_phase_calculation\n",
    "import datetime, math\n",
    "from decimal import *\n",
    "\n",
    "def calculate_moon_phase(now=None): \n",
    "    '''\n",
    "    Cacluates the phase of the moon giving a date.\n",
    "    \n",
    "    Args:\n",
    "        now (datetime): The datetime to determine the phase of the moon.\n",
    "    Returns:\n",
    "        int: The moon phase where 0: New Moon, 1: Waxing Crescent, 2: First Quarter, 3: Waxing Gibbous, \n",
    "        4: Full Moon, 5: Waning Gibbous, 6: Last Quarter, and 7: Waning Crescent\n",
    "    '''\n",
    "    if now is None: \n",
    "        now = datetime.datetime.now()\n",
    "\n",
    "    diff = now - datetime.datetime(2001, 1, 1)\n",
    "    days = Decimal(diff.days) + (Decimal(diff.seconds) / Decimal(86400))\n",
    "    lunations = Decimal(\"0.20439731\") + (days * Decimal(\"0.03386319269\"))\n",
    "    pos = lunations % 1\n",
    " \n",
    "    index = (pos * Decimal(8)) + Decimal(\"0.5\")\n",
    "    return int(math.floor(index))"
   ]
  },
  {
   "cell_type": "code",
   "execution_count": 10,
   "metadata": {
    "collapsed": false
   },
   "outputs": [],
   "source": [
    "if 'END_DATE' in df:\n",
    "    # add moon phase attribute\n",
    "    df['MOON_PHASE'] = df.END_DATE.map(lambda x: calculate_moon_phase(x))\n",
    "    df.MOON_PHASE = df.MOON_PHASE.astype('int64')\n",
    "    \n",
    "    # no longer need it\n",
    "    del df['END_DATE']"
   ]
  },
  {
   "cell_type": "markdown",
   "metadata": {},
   "source": [
    "Plot the number of offense for each moon phase. Looks like there is less crime for a new moon and waning crescent. Therefore, the moon phase will be removed."
   ]
  },
  {
   "cell_type": "code",
   "execution_count": 11,
   "metadata": {
    "collapsed": false
   },
   "outputs": [
    {
     "data": {
      "image/png": "[encoded data removed]",
      "text/plain": [
       "<matplotlib.figure.Figure at 0x103e1c110>"
      ]
     },
     "metadata": {},
     "output_type": "display_data"
    }
   ],
   "source": [
    "tmpdf = df[['MOON_PHASE', 'OFFENSE_Code']]\n",
    "ax = sns.countplot(x='MOON_PHASE', data=tmpdf)\n",
    "plt.show()"
   ]
  },
  {
   "cell_type": "code",
   "execution_count": 12,
   "metadata": {
    "collapsed": false
   },
   "outputs": [],
   "source": [
    "# delete feature since it is so uniform\n",
    "if 'MOON_PHASE' in df:\n",
    "    del df['MOON_PHASE']"
   ]
  },
  {
   "cell_type": "markdown",
   "metadata": {},
   "source": [
    "#### One Hot Encode Category Data\n",
    "\n",
    "All categorical data are ordinal or continuous so one-hot encoded is not required."
   ]
  },
  {
   "cell_type": "markdown",
   "metadata": {},
   "source": [
    "#### Attribute Representation\n",
    "All attributes are properly represented."
   ]
  },
  {
   "cell_type": "code",
   "execution_count": 13,
   "metadata": {
    "collapsed": false
   },
   "outputs": [
    {
     "name": "stdout",
     "output_type": "stream",
     "text": [
      "<class 'pandas.core.frame.DataFrame'>\n",
      "Int64Index: 36489 entries, 0 to 36488\n",
      "Data columns (total 17 columns):\n",
      "ANC                     36489 non-null int64\n",
      "NEIGHBORHOOD_CLUSTER    36489 non-null int64\n",
      "PSA_ID                  36489 non-null int64\n",
      "OFFENSE_Code            36489 non-null int64\n",
      "Latitude                36489 non-null float64\n",
      "Longitude               36489 non-null float64\n",
      "Max_Temp                36489 non-null int64\n",
      "Min_Temp                36489 non-null int64\n",
      "Max_Humidity            36489 non-null int64\n",
      "Min_Humidity            36489 non-null int64\n",
      "Max_Pressure            36489 non-null float64\n",
      "Min_Pressure            36489 non-null float64\n",
      "Precipitation           36489 non-null float64\n",
      "FOOD_STAMPS             36489 non-null int64\n",
      "CRIME_MONTH             36489 non-null int64\n",
      "CRIME_DAY               36489 non-null int64\n",
      "CRIME_HOUR              36489 non-null int64\n",
      "dtypes: float64(5), int64(12)\n",
      "memory usage: 5.0 MB\n"
     ]
    }
   ],
   "source": [
    "# view attribute representation\n",
    "df.info()"
   ]
  },
  {
   "cell_type": "markdown",
   "metadata": {},
   "source": [
    "#### Example record"
   ]
  },
  {
   "cell_type": "code",
   "execution_count": 14,
   "metadata": {
    "collapsed": false
   },
   "outputs": [
    {
     "data": {
      "text/plain": [
       "ANC                       11.000000\n",
       "NEIGHBORHOOD_CLUSTER       2.000000\n",
       "PSA_ID                   302.000000\n",
       "OFFENSE_Code               3.000000\n",
       "Latitude                  38.927685\n",
       "Longitude                -77.028497\n",
       "Max_Temp                  74.000000\n",
       "Min_Temp                  64.000000\n",
       "Max_Humidity              73.000000\n",
       "Min_Humidity              53.000000\n",
       "Max_Pressure              30.400000\n",
       "Min_Pressure              30.290000\n",
       "Precipitation              0.010000\n",
       "FOOD_STAMPS             2810.000000\n",
       "CRIME_MONTH                9.000000\n",
       "CRIME_DAY                 26.000000\n",
       "CRIME_HOUR                 3.000000\n",
       "Name: 1234, dtype: float64"
      ]
     },
     "execution_count": 14,
     "metadata": {},
     "output_type": "execute_result"
    }
   ],
   "source": [
    "df.ix[1234]"
   ]
  },
  {
   "cell_type": "markdown",
   "metadata": {},
   "source": [
    "#### Setup Features [X] and Target [y]"
   ]
  },
  {
   "cell_type": "code",
   "execution_count": 15,
   "metadata": {
    "collapsed": true
   },
   "outputs": [],
   "source": [
    "if 'OFFENSE_Code' in df:\n",
    "    target_codes = df['OFFENSE_Code'].copy() # save off old codes\n",
    "    y = df['OFFENSE_Code'].values\n",
    "    del df['OFFENSE_Code']\n",
    "    X = df.values "
   ]
  },
  {
   "cell_type": "markdown",
   "metadata": {},
   "source": [
    "#### Size of Dataset and Target Details"
   ]
  },
  {
   "cell_type": "code",
   "execution_count": 46,
   "metadata": {
    "collapsed": false
   },
   "outputs": [
    {
     "name": "stdout",
     "output_type": "stream",
     "text": [
      "Size of the dataset: (36489, 16)\n",
      "Number of unique classes: 9\n",
      "['THEFT/OTHER' 'THEFT F/AUTO' 'BURGLARY' 'ASSAULT W/DW' 'ROBBERY'\n",
      " 'MOTOR VEHICLE THEFT' 'HOMICIDE' 'SEX ABUSE' 'ARSON']\n",
      "\n",
      "Offenses Percentage\n",
      "1    38.367727\n",
      "2    30.063855\n",
      "3     6.944559\n",
      "4     6.549919\n",
      "5     9.186330\n",
      "6     7.657102\n",
      "7     0.433007\n",
      "8     0.748171\n",
      "9     0.049330\n",
      "dtype: float64\n",
      "\n"
     ]
    },
    {
     "data": {
      "image/png": "[encoded data removed]",
      "text/plain": [
       "<matplotlib.figure.Figure at 0x11b353d10>"
      ]
     },
     "metadata": {},
     "output_type": "display_data"
    }
   ],
   "source": [
    "print('Size of the dataset:', df.shape)\n",
    "print('Number of unique classes:', len(target_codes.unique()))\n",
    "print(target_desc.unique())\n",
    "\n",
    "print('')\n",
    "print('Offenses Percentage')\n",
    "y_series = pd.Series(y)\n",
    "y_tot = y_series.count()\n",
    "y_grp = y_series.groupby(y_series)\n",
    "print(y_grp.count() / y_tot * 100.)\n",
    "\n",
    "print('')\n",
    "fig, ax = plt.subplots()\n",
    "plt.title('Histogram of Offenses')\n",
    "plt.hist(y, bins=len(target_codes.unique()))\n",
    "plt.xlabel('Offenses')\n",
    "plt.ylabel('Frequency of Offense')\n",
    "plt.show()"
   ]
  },
  {
   "cell_type": "markdown",
   "metadata": {},
   "source": [
    "#### Normalize "
   ]
  },
  {
   "cell_type": "markdown",
   "metadata": {},
   "source": [
    "Our data has different scales so it will require normalization. We will normalize our data on the training data. This is because we don't want to find out our mean and standard deviation from the testing data. This would be snooping."
   ]
  },
  {
   "cell_type": "code",
   "execution_count": 17,
   "metadata": {
    "collapsed": false
   },
   "outputs": [],
   "source": [
    "from sklearn.preprocessing import StandardScaler\n",
    "\n",
    "# create stratified k-fold cross validation\n",
    "skf = StratifiedKFold(n_splits=10, random_state=0)\n",
    "\n",
    "scaler = StandardScaler()\n",
    "for train, test in skf.split(X, y):\n",
    "    scaler.fit(X[train])\n",
    "    break # only need one\n",
    "\n",
    "# we now have a scaler to use to transform our data\n",
    "# scaler.transform(...)"
   ]
  },
  {
   "cell_type": "markdown",
   "metadata": {},
   "source": [
    "<a id='describe_final_dataset'></a>\n",
    "### 1.2 - Purpose of Data Set\n",
    "From data exploration in Lab 1 and the Mini-Lab, we have two potential response variables: Crime_Type (Property crime vs. Violent crime), and Offense_Code (The more specific type of offense: Homicide, Robbery, Theft, Arson, etc.). The goal is to provide the police with a model that can predict or classify a crime based on the available explanatory variables.\n",
    "\n",
    "One problem with this data is that the victim profile data is missing (due to privacy concerns, and the fact that property crimes are not necessarily because of the owner's profile). The explanatory variables for this dataset focus on time and locations. We believe that the detection/classification of a Violent crime would be based primarily on the victim's characteristics, and not exclusively on the location or time. The other problem with this data is that (fortunately) there are far fewer violent crimes than there are property crimes (approximately 83% of the 36000+ crime reports are against property rather than persons), so we have very unbalanced classification tasks.\n",
    "\n",
    "Our exploration of the variables seem to indicate that time (not necessarily the day, but the time during the day) is one of the more significant factors. We saw this in the SHIFT variable (which gives the Police duty shift that responded to the call). When we broke the time down into individual hours of the day, we saw a pronounced cyclic effect, where night-time crimes were far more likely than daytime crimes. Weekend crimes were slightly more likely than crimes during the work week, and monthly trends appeared to be opposite intuition (fall crimes were more likely than winter or summer crimes).\n",
    "\n",
    "Location also appeared to have some influence, but the way the locations were grouped altered the effect significantly. Different political areas (Wards and the subordinate Association Neighborhood Committees) showed a different trend than using global locations (Latitude and Longitude). Police districts (and their subordinate Police Service Areas) showed a different trend than the Ward/ANC grouping. This tells us that there are some location effects, but it is difficult to separate them out due to the correlation between geo-physical areas and the different (but overlapping) political mappings.\n",
    "\n",
    "From what we can tell, due to our previous exploration, the existing variables are not able to properly perform the classification tasks alone. As such, we have looked at including other data to attempt to fill in the picture more completely. As mentioned before, victim profile would be interesting and probably very helpful, but we would not be able to get access to that due to privacy concerns. We are examining environmental data (primarily weather data, but we also have access to lunar phases to estimate luminance for night crimes or the psychological impact of lunacy. In addition to weather data, the number of people on foodstamps per ANC was added to provide more population demographic to help with prediction. \n",
    "\n",
    "For this lab, the focus will be on classifying the Offense_Code (type of offense) classification instead of the type of crime, Crime_Type (Property vs. Violent crime). Our tasks for this lab will be to leverage the crime data plus weather and foodstamp data to predict crime in an area such as ANC that would allow DC police to right size manpower and equipment to better fight crime; i.e., **regress and classify crimes in an ANC area.**"
   ]
  },
  {
   "cell_type": "markdown",
   "metadata": {},
   "source": [
    "<a id=\"modeling_and_evaluation\"></a>\n",
    "## 2 - Modeling and Evaluation\n",
    "\n",
    "<div style='margin-left:10%;margin-right:10%;margin-top:15px;background-color:#d3d3d3;padding:10px;'>\n",
    "<h3>Modeling and Evaluation (<b>70 points total</b>)</h3>\n",
    "    <ul><li>[<b>10 points</b>] [2.1 - Choose and explain your evaluation metrics](#choose_and_explain) that you will use (i.e., accuracy, precision, recall, F-measure, or any metric we have discussed). Why are the measure(s) appropriate for analyzing the results of your modeling? Give a detailed explanation backing up any assertions.</li>\n",
    "    <li>[<b>10 points</b>] [2.2 - Choose the method you will use for dividing your data](#choose_the_method) into training and testing splits (i.e., are you Stratified 10-fold cross validataion? Why?). Explain why your chosen method is appropriate or use more than one method as appropriate. For example, if you are using time series data then you should be using continuous training and testing sets across time.</li>\n",
    "    <li>[<b>20 points</b>] [2.3 - Create three different classification/regression models](#create_models) for each task (e.g., random forest KNN, and SVM for task one and the same or different algorithms for task two). Two modeling techniques must be new (but the third could be SVM or logistic regression). Adjust parameters as appropriate to increase generalization performance using your chosen metric. You must investigate different parameters of the algorithms!</li>\n",
    "    <li>[<b>10 points</b>] [2.4 - Analyze the results using your chosen method of evaluation](#analyze_results). Use visualizations of the results to bolster the analysis. Explain any visuals and analyze why they are interesting to someone that might use this model.</li>\n",
    "    <li>[<b>10 points</b>] [2.5 - Discuss the advantages of each model](#discuss_models) for each classification task, if any. If there are not advantages, explain why. Is any model better than another? Is the difference significant with 95% confidence? Use proper statistical comparison methods. You must use statistical comparison techniques - be sure they are appropriate for your chosen method of validation.</li>\n",
    "    <li>[<b>10 points</b>] [2.6 - Which attributes from your analysis are most important](#important_attributes)? Use proper methods discussed in class to evaluate the importance of different attributes. Discuss the results and hypothesis about why certain attributes are more important than others for a given classification task.</li>\n",
    "   </ul>\n",
    "</div>\n",
    "\n"
   ]
  },
  {
   "cell_type": "markdown",
   "metadata": {},
   "source": [
    "<a id='choose_and_explain'></a>\n",
    "### 2.1 - Choose and explain your evaluation metrics\n",
    "Choose and explain your evaluation metrics that you will use (i.e., accuracy, precision, recall, F-measure, or any metric we have discussed). Why are the measure(s) appropriate for analyzing the results of your modeling? Give a detailed explanation backing up any assertions. **(10 points total)**"
   ]
  },
  {
   "cell_type": "markdown",
   "metadata": {},
   "source": [
    "#### Answer\n",
    "Our high-level goal or business metric of the Washington D.C. crime dataset is to regress and classify crimes in an ANC area.\n",
    "\n",
    "#### 1. Classification Task\n",
    "The classification task is a multiclass problem. In addition, our classes are imbalanced so accuracy will not be a good measure. For example, the following table shows the frequency of our offense class. If our model is 50% accurate, then how do we know which classes were accurate? Accuracy is defined as the fraction correct across all classes. Therefore, we will need a more detail report to measure our model.\n",
    "\n",
    "|Class|Frequency (%)|\n",
    "|:------|:-------:|\n",
    "|THEFT/OTHER| 38.4|\n",
    "|THEFT F/AUTO| 30.1|\n",
    "|BURGLARY| 6.9|\n",
    "|ASSAULT W/DW| 6.5|\n",
    "|ROBBERY| 9.2|\n",
    "|MOTOR VEHICLE THEFT| 7.7|\n",
    "|HOMICIDE| 0.4|\n",
    "|SEX ABUSE| 0.7|\n",
    "|ARSON| 0.05|\n",
    "\n",
    "Also, our classification task is not mission critical. The police department will not be using this model to arrest people before a crime is committed like *Minority Report*. Our goal is purely to see if the DC reported crime data plus weather and a welfare benefit data can predict crimes and their classifcation.\n",
    "\n",
    "Given our multiclass problem and the fact the classes are imbalanced, a confusion matrix like the below figure will be used to provide detail insight on the accuracy, recall, and precision of our model.\n",
    "\n",
    "![Confusion Matrix](images/confusion_matrix.png \"Example Confusion Matrix\") \n",
    "<p style='text-align: center;'>\n",
    "Example Confusion Matrix\n",
    "</p>\n",
    "\n",
    "#### 2. Regression Task\n",
    "The regression task is to predict the number of crimes that will be committed in an ANC geographic area given the set of features. The model evaluation metric for regression will be RMSE (root mean squared error). This measure will be calculated by leveraging `scikit-learn's` *mean_squared_error* function and taking its square root. RMSE is the most popular evaluation metric used in regression problems according to [Analytics Vidhya](https://www.analyticsvidhya.com/blog/2016/02/7-important-model-evaluation-error-metrics/). This metric is highly affected by outliers, so these must be removed. Also, the metric is relevent to the y unit meaning that \n",
    "\n",
    "These metrics used with cross validation will guide us to the best fit models."
   ]
  },
  {
   "cell_type": "markdown",
   "metadata": {},
   "source": [
    "<a id='choose_the_method'></a>\n",
    "### 2.2 - Choose the method you will use for dividing your data\n",
    "Choose the method you will use for dividing your data into training and testing splits (i.e., are you Stratified 10-fold cross validataion? Why?). Explain why your chosen method is appropriate or use more than one method as appropriate. For example, if you are using time series data then you should be using continuous training and testing sets across time. **(10 points total)**"
   ]
  },
  {
   "cell_type": "markdown",
   "metadata": {},
   "source": [
    "#### Answer\n",
    "A simple train/test split provides a split of the data preferrably random into a buckets to train a model and then test it. With this approach only one model is trained and tested. If we have unbalanced classes like our dataset, then we might end up with a training model with a poor representation of our dataset. Or, the test dataset might not have enough class representation to assess the model.\n",
    "\n",
    "A cross validation (CV) approach is more preferred for us to ensure each record is in the training and testing dataset exactly once. CV will split the data into folds where each fold is the test data, and the remaining folds are used to train the model. If we use a 10-fold cross validation, then we can use 9/10 of the data to train the model often resulting in a more accurate model.\n",
    "\n",
    "Finally, we need to account for our unabalanced traget class as depicted in an earlier histogram. Therefore, we are using a 10-fold stratified cross validation strategy. A stratified CV will ensure each fold has the same target class frequency as the entire dataset. The histogram plots below illustrate this discussion."
   ]
  },
  {
   "cell_type": "code",
   "execution_count": 18,
   "metadata": {
    "collapsed": false
   },
   "outputs": [
    {
     "data": {
      "image/png": "[encoded data removed]",
      "text/plain": [
       "<matplotlib.figure.Figure at 0x114708b50>"
      ]
     },
     "metadata": {},
     "output_type": "display_data"
    },
    {
     "data": {
      "image/png": "[encoded data removed]",
      "text/plain": [
       "<matplotlib.figure.Figure at 0x1156d6390>"
      ]
     },
     "metadata": {},
     "output_type": "display_data"
    },
    {
     "data": {
      "image/png": "[encoded data removed]",
      "text/plain": [
       "<matplotlib.figure.Figure at 0x116b46cd0>"
      ]
     },
     "metadata": {},
     "output_type": "display_data"
    }
   ],
   "source": [
    "def plot_class_dist(train, test, title):\n",
    "    fig, (ax1, ax2) = plt.subplots(1, 2, sharey=True)\n",
    "    ax1.hist(train, bins=len(target_codes.unique()))\n",
    "    ax1.set_title('Y Training')\n",
    "    ax1.set_xticklabels(target_desc, rotation=40)\n",
    "    ax2.hist(test, bins=len(target_codes.unique()))\n",
    "    ax2.set_title('Y Test')\n",
    "    ax2.set_xticklabels(target_desc, rotation=40)\n",
    "    fig.suptitle(title)\n",
    "    fig.text(.01, .5, 'Frequency', va='center', rotation='vertical')\n",
    "    plt.show()    \n",
    "    \n",
    "# train_test\n",
    "X_train, X_test, y_train, y_test = train_test_split(X, y, test_size=.2, random_state=0)\n",
    "plot_class_dist(y_train, y_test, 'Train Test Split 80%')\n",
    "\n",
    "# k-fold\n",
    "from sklearn.model_selection import KFold\n",
    "kf = KFold(n_splits=2, random_state=0)\n",
    "for train_idx, test_idx in kf.split(X, y):  \n",
    "    plot_class_dist(y[train_idx], y[test_idx], 'k-fold')\n",
    "    break # only plot one\n",
    "    \n",
    "# stratified k-fold\n",
    "    skf = StratifiedKFold(n_splits=2, random_state=0)\n",
    "for train_idx, test_idx in skf.split(X, y):  \n",
    "    plot_class_dist(y[train_idx], y[test_idx], 'k-fold Stratified')\n",
    "    break # only plot one"
   ]
  },
  {
   "cell_type": "markdown",
   "metadata": {},
   "source": [
    "<a id='create_models'></a>\n",
    "### 2.3 - Create three different classification/regression models\n",
    "Create three different classification/regression models for each task (e.g., random forest, KNN, and SVM for task one and the same or different algorithms for task two). Two modeling techniques must be new (but the third could be SVM or logistic regression). Adjust parameters as appropriate to increase generalization performance using your chosen metric. You must investigate different parameters of the algorithms! **(20 points total)**"
   ]
  },
  {
   "cell_type": "markdown",
   "metadata": {},
   "source": [
    "<a id='analyze_results'></a>\n",
    "### 2.4 - Analyze the results using your chosen method of evaluation\n",
    "Analyze the results using your chosen method of evaluation. Use visualizations of the results to bolster the analysis. Explain any visuals and analyze why they are interesting to someone that might use this model. **(10 points total)**"
   ]
  },
  {
   "cell_type": "markdown",
   "metadata": {},
   "source": [
    "<a id='discuss_models'></a>\n",
    "### 2.5 - Discuss the advantages of each model\n",
    "Discuss the advantages of each model for each classification task, if any. If there are not advantages, explain why. Is any model better than another? Is the difference significant with 95% confidence? Use proper statistical comparison methods. You must use statistical comparison techniques - be sure they are appropriate for your chosen method of validation. **(10 points total)**"
   ]
  },
  {
   "cell_type": "markdown",
   "metadata": {},
   "source": [
    "<a id='important_attributes'></a>\n",
    "### 2.6 - Which attributes from your analysis are most important\n",
    "Which attributes from your analysis are most important? Use proper methods discussed in class to evaluate the importance of different attributes. Discuss the results and hypothesis about why certain attributes are more important than others for a given classification task. **(10 points total)**"
   ]
  },
  {
   "cell_type": "markdown",
   "metadata": {},
   "source": [
    "<a id=\"deployment\"></a>\n",
    "## 3 - Deployment\n",
    "\n",
    "<div style='margin-left:10%;margin-right:10%;margin-top:15px;background-color:#d3d3d3;padding:10px;'>\n",
    "<h3>Deployment (<b>5 points total</b>)</h3>\n",
    "    <ul><li>[3.1 - How useful is your model](#model_usefulness) for interested parties (i.e., the companies or organizations that might want to use it for prediction)?</li>\n",
    "    <li>[3.2 - How would you measure the model's value](#model_value) if it was used by these parties?</li>\n",
    "    <li>[3.3 - How would you deploy your model](#model_deploy) for interested parties?</li>\n",
    "    <li>[3.4 - What other data should be collected](#other_data)?</li>\n",
    "    <li>[3.5 - How often would the model need to be updated](#model_update), etc.?</li>\n",
    "   </ul>\n",
    "</div>"
   ]
  },
  {
   "cell_type": "markdown",
   "metadata": {},
   "source": [
    "<a id='model_usefulness'></a>\n",
    "### 3.1 - How useful is your model\n",
    "How useful is your model for interested parties (i.e., the companies or organizations that might want to use it for prediction)?"
   ]
  },
  {
   "cell_type": "markdown",
   "metadata": {},
   "source": [
    "<a id='model_value'></a>\n",
    "### 3.2 - How would you measure the model's value\n",
    "How would you measure the model's value if it was used by these parties?"
   ]
  },
  {
   "cell_type": "markdown",
   "metadata": {},
   "source": [
    "<a id='model_deploy'></a>\n",
    "### 3.3 - How would you deploy your model\n",
    "How would you deploy your model for interested parties?"
   ]
  },
  {
   "cell_type": "markdown",
   "metadata": {},
   "source": [
    "<a id='other_data'></a>\n",
    "### 3.4 - What other data should be collected\n",
    "What other data should be collected?"
   ]
  },
  {
   "cell_type": "markdown",
   "metadata": {},
   "source": [
    "<a id='model_update'></a>\n",
    "### 3.5 - How often would the model need to be updated\n",
    "How often would the model need to be updated, etc.?"
   ]
  },
  {
   "cell_type": "markdown",
   "metadata": {},
   "source": [
    "<a id=\"exceptional\"></a>\n",
    "## 4 - Exceptional Work\n",
    "\n",
    "<div style='margin-left:10%;margin-right:10%;margin-top:15px;background-color:#d3d3d3;padding:10px;'>\n",
    "<h3>Exceptional Work (<b>10 points total</b>)</h3>\n",
    "   <p>Free reign to provide additional analysis. The following are possible ideas:</p>\n",
    "   <ul>\n",
    "       <li>Grid search parameters in a parallelized fashion and visualize the performances across attributes. Which parameters are most significant for making a good model for each classification algorithm?</li>\n",
    "       <li>Apply Synthetic Minority Over-sampling Technique (SMOTE)</li>\n",
    "       <li>Utilize pipeline</li>\n",
    "       <li>Visualize feature importance</li>\n",
    "       <li>Utilize R implementation of ADA</li>\n",
    "   </ul>\n",
    "</div>"
   ]
  }
 ],
 "metadata": {
  "anaconda-cloud": {},
  "kernelspec": {
   "display_name": "Python [default]",
   "language": "python",
   "name": "python2"
  },
  "language_info": {
   "codemirror_mode": {
    "name": "ipython",
    "version": 2
   },
   "file_extension": ".py",
   "mimetype": "text/x-python",
   "name": "python",
   "nbconvert_exporter": "python",
   "pygments_lexer": "ipython2",
   "version": "2.7.10"
  }
 },
 "nbformat": 4,
 "nbformat_minor": 0
}
