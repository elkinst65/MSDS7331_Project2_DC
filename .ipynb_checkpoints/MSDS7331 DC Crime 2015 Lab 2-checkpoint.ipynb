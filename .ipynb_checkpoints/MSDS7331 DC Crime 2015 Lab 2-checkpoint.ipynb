{
 "cells": [
  {
   "cell_type": "markdown",
   "metadata": {},
   "source": [
    "# MSDS 7331 - Lab Two: Regress or Classify\n",
    "\n",
    "### Investigators\n",
    "- [Matt Baldree](mailto:mbaldree@smu.edu?subject=lab2)\n",
    "- [Tom Elkins](telkins@smu.edu?subject=lab2)\n",
    "- [Austin Kelly](ajkelly@smu.edu?subject=lab2)\n",
    "- [Ben Brock](bbrock@smu.edu?subject=lab2)\n",
    "\n",
    "\n",
    "<div style='margin-left:10%;margin-right:10%;margin-top:15px;background-color:#d3d3d3;padding:5px;'>\n",
    "    <h3>Lab Instructions</h3>\n",
    "    <p>You are to build upon the predictive analysis that you already completed in the previous mini-project, adding additional modeling from new classification algorithms as well as more explanations that are inline with the CRISP-DM framework. You should use appropriate cross validation for all of your analysis (explain your chosen method of performance validation <i>in detail</i>). Try to use as much testing data as possible <i>in a realistic manner</i> (you should define what you think is realistic and why).</p>\n",
    "    <p>This report is worth 20% of the final grade. Please upload a report (one per team) with all code used, visualizations, and text in a single document. The results should be reproducible using your report. Please carefully describe every assumption and every step in your report.</p>\n",
    "    <p>Report Sections:</p>\n",
    "    <ol>\n",
    "        <li>[Data Preparation](#data_preparation) <b>(15 points)</b></li>\n",
    "        <li>[Modeling and Evaluation](#modeling_and_evaluation) <b>(70 points)</b></li>\n",
    "        <li>[Deployment](#deployment) <b>(5 points)</b></li>\n",
    "        <li>[Exceptional Work](#exceptional_work) <b>(10 points)</b></li>\n",
    "    </ol>\n",
    "</div>"
   ]
  },
  {
   "cell_type": "markdown",
   "metadata": {},
   "source": [
    "<a id='data_preparation'></a>\n",
    "## 1 - Data Preparation\n",
    "<div style='margin-left:10%;margin-right:10%;margin-top:15px;background-color:#d3d3d3;padding:10px;'>\n",
    "<h3>Data Preparation (<b>15 points total</b>)</h3>\n",
    "    <ul><li>[<b>10 points total</b>] [1.1 - Define and prepare your class variables](#define_and_prepare_class_variables). Use proper variable representations (int, float, one-hot, etc.). Use pre-processing methods (as needed) for dimensionality reductions, scaling, etc. Remove variables that are not needed/useful for the analysis.</li>\n",
    "    <li>[<b>5 points total</b>] [1.2 - Describe the final dataset](#describe_final_dataset) that is used for classification/regression (include a description of any newly formed variables you created.)</li>\n",
    "    </ul>\n",
    "</div>"
   ]
  },
  {
   "cell_type": "markdown",
   "metadata": {},
   "source": [
    "<a id='define_and_prepare_class_variables'></a>\n",
    "### 1.1 - Define and Prepare Class Variables\n",
    "The data set chosen for lab 2 is the 2015 Washington DC Metro Crime inspired from a Kaggle data set found at [Kaggle](https://www.kaggle.com/vinchinzu/dc-metro-crime-data). The data set was obtained by following the steps found on the [Using the Crime Map Application](http://mpdc.dc.gov/node/200622) page. This site allowed us to download data by political ward for all eight wards from 01/01/2015 to 12/31/2015 as CSV files. These individual ward files were then merged together into a single file for our use. This data set contains 36,493 entries and 18 attributes that are both continuous and discrete. This satisfies the data set requirement for a minimum of 30,000 entries and 10 attributes which are both continuous and discrete. Further definition of this data set will be discussed in the [Data Understanding](#data_understanding) section.\n",
    "\n",
    "The data is supplimented by weather and demographic data. For weather, data that corresponds to the end date of the crime obtained from [Wunderground](http://wunderground.com) to see if weather is a predictor or crimes in DC. For demographic, the number of people on food stamps in an adivsory neighborhood commission (ANC) for the year of the end date of the crime was obtained from [Neighborhood Info DC](http://www.neighborhoodinfodc.org/anc12/anc.html).\n",
    "\n",
    "![Ward Map](images/ANC_2012.jpg \"Washington DC ANC\") \n",
    "<p style='text-align: center;'>\n",
    "Washington DC Advisory Neighborhood Map\n",
    "</p>\n",
    "\n",
    "The crime data is published by the Washington DC Metro police department daily (see below image) to provide their residents a clear picture of crime trends as they actually happen. The data is shared with its residents such as Advisory Neighborhood Commissions, see above, to help the police determine how to keep neighborhoods safe. The data is also analyzed to determine the effectiveness of current investments such as putting more officers on the streets, buying police more tools, and launching community partnerships, see [Washington DC Metro Police Department report](http://mpdc.dc.gov/publication/mpd-annual-report-2015) for more details.\n",
    "\n",
    "![Ward Map](images/dc_2015_crime.tiff \"Washington DC Year End Crime Data\") \n",
    "<p style='text-align: center;'>\n",
    "Washington DC Metro 2015 Year End Crime Data\n",
    "</p>"
   ]
  },
  {
   "cell_type": "markdown",
   "metadata": {},
   "source": [
    "### 1.1.1 - Load Data"
   ]
  },
  {
   "cell_type": "code",
   "execution_count": 1,
   "metadata": {
    "collapsed": false
   },
   "outputs": [],
   "source": [
    "# generic imports\n",
    "import pandas as pd\n",
    "import numpy as np\n",
    "from __future__ import print_function\n",
    "\n",
    "# plotting setup\n",
    "%matplotlib inline\n",
    "import matplotlib.pyplot as plt\n",
    "plt.style.use('ggplot')\n",
    "\n",
    "import seaborn as sns\n",
    "sns.set(font_scale=1)\n",
    "cmap = sns.diverging_palette(220, 10, as_cmap=True) # one of the many color mappings\n",
    "\n",
    "# scikit imports\n",
    "from sklearn import metrics\n",
    "from sklearn.preprocessing import StandardScaler\n",
    "from sklearn.linear_model import LogisticRegression\n",
    "from sklearn.model_selection import train_test_split\n",
    "from sklearn.model_selection import cross_val_score\n",
    "from sklearn.model_selection import StratifiedKFold\n",
    "from sklearn.model_selection import KFold\n",
    "from sklearn.model_selection import GridSearchCV\n",
    "from sklearn.model_selection import train_test_split\n",
    "from sklearn.pipeline import Pipeline\n",
    "from sklearn.decomposition import PCA\n",
    "from sklearn.neighbors import KNeighborsClassifier\n",
    "from sklearn.ensemble import RandomForestClassifier\n",
    "from sklearn.naive_bayes import GaussianNB\n",
    "\n",
    "# Read in the crime data from the CSV file\n",
    "df = pd.read_csv('data/DC_Crime_2015_Lab2_Weather.csv')\n",
    "df_foodstamps = pd.read_csv('data/foodstamps.csv')"
   ]
  },
  {
   "cell_type": "code",
   "execution_count": 2,
   "metadata": {
    "collapsed": false
   },
   "outputs": [
    {
     "name": "stdout",
     "output_type": "stream",
     "text": [
      "<class 'pandas.core.frame.DataFrame'>\n",
      "RangeIndex: 36489 entries, 0 to 36488\n",
      "Data columns (total 33 columns):\n",
      "REPORT_DAT              36489 non-null object\n",
      "SHIFT                   36489 non-null object\n",
      "OFFENSE                 36489 non-null object\n",
      "METHOD                  36489 non-null object\n",
      "DISTRICT                36442 non-null float64\n",
      "PSA                     36441 non-null float64\n",
      "WARD                    36489 non-null int64\n",
      "ANC                     36489 non-null int64\n",
      "NEIGHBORHOOD_CLUSTER    36489 non-null int64\n",
      "CENSUS_TRACT            36489 non-null int64\n",
      "VOTING_PRECINCT         36489 non-null int64\n",
      "CCN                     36489 non-null int64\n",
      "XBLOCK                  36489 non-null float64\n",
      "YBLOCK                  36489 non-null float64\n",
      "START_DATE              36489 non-null object\n",
      "END_DATE                36489 non-null object\n",
      "PSA_ID                  36489 non-null int64\n",
      "DistrictID              36489 non-null int64\n",
      "SHIFT_Code              36489 non-null int64\n",
      "OFFENSE_Code            36489 non-null int64\n",
      "METHOD_Code             36489 non-null int64\n",
      "CRIME_TYPE              36489 non-null int64\n",
      "AGE                     36489 non-null int64\n",
      "TIME_TO_REPORT          36489 non-null int64\n",
      "Latitude                36489 non-null float64\n",
      "Longitude               36489 non-null float64\n",
      "Max_Temp                36489 non-null int64\n",
      "Min_Temp                36489 non-null int64\n",
      "Max_Humidity            36489 non-null int64\n",
      "Min_Humidity            36489 non-null int64\n",
      "Max_Pressure            36489 non-null float64\n",
      "Min_Pressure            36489 non-null float64\n",
      "Precipitation           36489 non-null float64\n",
      "dtypes: float64(9), int64(18), object(6)\n",
      "memory usage: 9.2+ MB\n"
     ]
    }
   ],
   "source": [
    "# how is the data represented?\n",
    "df.info()"
   ]
  },
  {
   "cell_type": "code",
   "execution_count": 3,
   "metadata": {
    "collapsed": false
   },
   "outputs": [
    {
     "name": "stdout",
     "output_type": "stream",
     "text": [
      "<class 'pandas.core.frame.DataFrame'>\n",
      "RangeIndex: 85 entries, 0 to 84\n",
      "Data columns (total 3 columns):\n",
      "YR             85 non-null int64\n",
      "ANC            85 non-null int64\n",
      "FOOD_STAMPS    85 non-null int64\n",
      "dtypes: int64(3)\n",
      "memory usage: 2.1 KB\n"
     ]
    }
   ],
   "source": [
    "df_foodstamps.info()"
   ]
  },
  {
   "cell_type": "markdown",
   "metadata": {},
   "source": [
    "### 1.1.2 - Attribute Details\n",
    "Remove unnecessary attributes and add attributes that might help us predict an offense."
   ]
  },
  {
   "cell_type": "markdown",
   "metadata": {},
   "source": [
    "#### Attributes to Remove\n",
    "The below table provides a description of attributes that will be removed because they provide little to no predictive power.\n",
    "\n",
    "|Attribute|Description|Removal Reason|\n",
    "|:------|:----------|:-------------|\n",
    "|REPORT_DAT| The date/time the offense was *reported*| When the crime was report is not a predictor of a crime.|\n",
    "|SHIFT| The duty shift that responded to the call.| This is an eight hour window that is too coarse grain.|\n",
    "|OFFENSE| The category of crime committed.| This attribute is redundant with OFFENSE_Code. It will be stored off for its labels.|\n",
    "|METHOD| The category of the method used to commit the crime.| This attribute is redundant with METHOD_Code. It will be stored off for its labels.|\n",
    "|DISTRICT| The police district.| This attribute was replaced earlier preprocessing to create DistrictID.|\n",
    "|PSA| Police Service Area| This attribute was replaced earlier preprocessing to create PSA_ID.|\n",
    "|WARD| The political Ward identifier.| WARD can be derived from NEIGHBORHOOD_CLUSTER which provides a smaller geographic resolution.|\n",
    "|CENSUS_TRACT| Land management tract identifier.| This attribute is superceded by other geographical data.|\n",
    "|VOTING_PRECINCT| Political subdivision| This attribute is superceded by other geographical data.|\n",
    "|CCN| Criminal Complaint Number - unique to each report| An index for the crime report.|\n",
    "|XBLOCK| Eastern coordinate of crime scene (meters)| This attribute is superceded by lattitude and longitude.|\n",
    "|YBLOCK| Northern coordinate of crime scene (meters)| This attribute is superceded by lattitude and longitude.|\n",
    "|START_DATE| The earliest the crime *might* have been committed.| END_DATE provides a more accurate time when considering unwitness crimes.|\n",
    "|DistrictID| The police district.| Redundant with PSA_ID. DistrictID can be derived from PSA_ID.|\n",
    "|SHIFT_Code| The duty shift that responded to the call.| This is an eight hour window that is too coarse grain.|\n",
    "|METHOD_Code| The coded method used to commit the crime.| Over 90% of the crimes are coded OTHER so this attribute is useless.|\n",
    "|AGE| The difference in end data and start date of the crime.| This attribute is unreliable due to the discrepency in start dates.|\n",
    "|TIME_TO_REPORT| The time it took for the police to report the crime.| This attribue represents action after the crime.|"
   ]
  },
  {
   "cell_type": "code",
   "execution_count": 4,
   "metadata": {
    "collapsed": false
   },
   "outputs": [
    {
     "name": "stdout",
     "output_type": "stream",
     "text": [
      "['THEFT/OTHER' 'THEFT F/AUTO' 'BURGLARY' 'ASSAULT W/DW' 'ROBBERY'\n",
      " 'MOTOR VEHICLE THEFT' 'HOMICIDE' 'SEX ABUSE' 'ARSON']\n"
     ]
    }
   ],
   "source": [
    "# save target descriptions\n",
    "clf_offense_descriptions = df.OFFENSE.unique()\n",
    "\n",
    "print(clf_offense_descriptions)"
   ]
  },
  {
   "cell_type": "code",
   "execution_count": 5,
   "metadata": {
    "collapsed": true
   },
   "outputs": [],
   "source": [
    "# remove attributes\n",
    "for attrib in ('REPORT_DAT', 'SHIFT', 'OFFENSE', 'METHOD', 'DISTRICT', 'PSA', 'WARD', 'CENSUS_TRACT', \n",
    "               'VOTING_PRECINCT', 'CCN', 'XBLOCK', 'YBLOCK', 'START_DATE', 'DistrictID', 'SHIFT_Code', \n",
    "               'METHOD_Code', 'AGE', 'TIME_TO_REPORT'):\n",
    "    if attrib in df:\n",
    "        del df[attrib]"
   ]
  },
  {
   "cell_type": "markdown",
   "metadata": {},
   "source": [
    "#### Attributes to Keep\n",
    "The below table provides a description of attributes that will remain for predicting crimes in DC.\n",
    "\n",
    "|Attribute|Description|Role|\n",
    "|:------|:----------------|:----:|\n",
    "|ANC| Advisory Neighborhood Commission that is a geo-political grouping. This is our target attribute for task 2.| Feature and Target|\n",
    "|NEIGHBORHOOD_CLUSTER|Neighborhood identifier that subdivides police wards.| Feature|\n",
    "|END_DATE| The latest the crime *might* have been committed. This attribute will be broken down into day of week, month of year, and hour of the day.| Features|\n",
    "|PSA_ID| Police Service Area that breaks down WARDS differently than ANC and NEIGHBORHOOD_CLUSTER.| Feature|\n",
    "|OFFENSE_Code| The category code of crime committed. This is our target attribute for task 1.| Feature and Target|\n",
    "|Latitude| The angular distance of the crime North of the earth's equator| Feature|\n",
    "|Longitude| The angular distance of the crime West of the meridian at Greenwich, England| Feature|\n",
    "|Max_Temp| The maximum temperature for the END_DATE in Fahrenheit| Feature|\n",
    "|Min_Temp| The minimum temperature for the END_DATE in Fahrenheit| Feature|\n",
    "|Max_Humidity| The maximum humidity for the END_DATE in inches| Feature|\n",
    "|Min_Humidity| The minimum humidity for the END_DATE in inches| Feature|\n",
    "|Max_Pressure| The maximum sea level pressure for the END_DATE in inches| Feature|\n",
    "|Min_Pressure| The minimum sea level pressure for the END_DATE in inches| Feature|\n",
    "|Precipitation| The amount of percipitation for the END_DATE in inches| Feature|"
   ]
  },
  {
   "cell_type": "markdown",
   "metadata": {},
   "source": [
    "#### Attributes to Add\n",
    "\n",
    "The below table provides a description of attributes that will be added for predicting crimes in DC. Do these features help us predic a class of a crime?\n",
    "\n",
    "|Attribute|Description|Role|\n",
    "|:------|:----------------|:----:|\n",
    "|FOOD_STAMPS| The number of people on foodstamps for the year of the END_DATE| Feature and Regression Target|\n",
    "|CRIME_MONTH|The latest month the crime was comitted.| Feature|\n",
    "|CRIME_DAY| The latest day the crime was committed.| Feature|\n",
    "|CRIME_HOUR| The latest hour the crime was committed.| Feature|\n",
    "|MOON_PHASE| The moon phase where 0: New Moon, 1: Waxing Crescent, 2: First Quarter, 3: Waxing Gibbous, 4: Full Moon, 5: Waning Gibbous, 6: Last Quarter, and 7: Waning Crescent. Note: After later analysis, the feature is removed.| Feature|"
   ]
  },
  {
   "cell_type": "markdown",
   "metadata": {},
   "source": [
    "Merge the foodstamp data with our crime data. The foodstamp data is the number of people on foodstamps for a ANC for the year the crime's end date. All data was available accept for ANC 1A or 11 in our dataset. ANC 1A is neighbored by 1D, 1C, 1B, 4C, 5A, and 5E, see above figure. Therefore, the average of 1A's neighbors was determined and used for its value."
   ]
  },
  {
   "cell_type": "code",
   "execution_count": 6,
   "metadata": {
    "collapsed": false
   },
   "outputs": [],
   "source": [
    "if 'END_DATE' in df:\n",
    "    # convert END_DATE to datetime\n",
    "    df.END_DATE = pd.to_datetime(df.END_DATE)\n",
    "    \n",
    "    # add YR to merge on with foodstamp df\n",
    "    df['YR'] = df.END_DATE.map(lambda x: x.year)\n",
    "    df.YR = df.YR.astype('int64')\n",
    "    \n",
    "    # merge foodstamp data into df\n",
    "    df = pd.merge(df, df_foodstamps, on=['ANC', 'YR'])\n",
    "    \n",
    "    # drop temp YR\n",
    "    del df['YR']"
   ]
  },
  {
   "cell_type": "markdown",
   "metadata": {},
   "source": [
    "Plot the number of the people on foodstamps per ANC."
   ]
  },
  {
   "cell_type": "code",
   "execution_count": 7,
   "metadata": {
    "collapsed": false
   },
   "outputs": [
    {
     "data": {
      "image/png": "[encoded data removed]",
      "text/plain": [
       "<matplotlib.figure.Figure at 0x1158a0690>"
      ]
     },
     "metadata": {},
     "output_type": "display_data"
    }
   ],
   "source": [
    "tmpdf = df[['FOOD_STAMPS', 'ANC']]\n",
    "sns.countplot(x='ANC', data=tmpdf)\n",
    "plt.show()"
   ]
  },
  {
   "cell_type": "code",
   "execution_count": 8,
   "metadata": {
    "collapsed": false
   },
   "outputs": [],
   "source": [
    "if 'END_DATE' in df:\n",
    "    # convert END_DATE to datetime\n",
    "    df.END_DATE = pd.to_datetime(df.END_DATE)\n",
    "\n",
    "    # add the month of the crime\n",
    "    df['CRIME_MONTH'] = df.END_DATE.map(lambda x: x.month)\n",
    "    df.CRIME_MONTH = df.CRIME_MONTH.astype('int64')\n",
    "\n",
    "    # add day of the month\n",
    "    df['CRIME_DAY'] = df.END_DATE.map(lambda x:x.day)\n",
    "    df.CRIME_DAY = df.CRIME_DAY.astype('int64')\n",
    "\n",
    "    # add hour of the day\n",
    "    df['CRIME_HOUR'] = df.END_DATE.map(lambda x:x.hour)\n",
    "    df.CRIME_HOUR = df.CRIME_HOUR.astype('int64')"
   ]
  },
  {
   "cell_type": "code",
   "execution_count": 9,
   "metadata": {
    "collapsed": false
   },
   "outputs": [],
   "source": [
    "# calculate moon phase, http://en.wikipedia.org/wiki/Lunar_phase#Lunar_phase_calculation\n",
    "import datetime, math\n",
    "from decimal import *\n",
    "\n",
    "def calculate_moon_phase(now=None): \n",
    "    '''\n",
    "    Cacluates the phase of the moon giving a date.\n",
    "    \n",
    "    Args:\n",
    "        now (datetime): The datetime to determine the phase of the moon.\n",
    "    Returns:\n",
    "        int: The moon phase where 0: New Moon, 1: Waxing Crescent, 2: First Quarter, 3: Waxing Gibbous, \n",
    "        4: Full Moon, 5: Waning Gibbous, 6: Last Quarter, and 7: Waning Crescent\n",
    "    '''\n",
    "    if now is None: \n",
    "        now = datetime.datetime.now()\n",
    "\n",
    "    diff = now - datetime.datetime(2001, 1, 1)\n",
    "    days = Decimal(diff.days) + (Decimal(diff.seconds) / Decimal(86400))\n",
    "    lunations = Decimal(\"0.20439731\") + (days * Decimal(\"0.03386319269\"))\n",
    "    pos = lunations % 1\n",
    " \n",
    "    index = (pos * Decimal(8)) + Decimal(\"0.5\")\n",
    "    return int(math.floor(index))"
   ]
  },
  {
   "cell_type": "code",
   "execution_count": 10,
   "metadata": {
    "collapsed": false
   },
   "outputs": [],
   "source": [
    "if 'END_DATE' in df:\n",
    "    # add moon phase attribute\n",
    "    df['MOON_PHASE'] = df.END_DATE.map(lambda x: calculate_moon_phase(x))\n",
    "    df.MOON_PHASE = df.MOON_PHASE.astype('int64')\n",
    "    \n",
    "    # no longer need it\n",
    "    del df['END_DATE']"
   ]
  },
  {
   "cell_type": "markdown",
   "metadata": {},
   "source": [
    "Plot the number of offense for each moon phase. Looks like there is less crime for a new moon and waning crescent. Crime doesn't seem to be widely effected by the phase of the moon; i.e., werewolves. Therefore, the moon phase will be removed."
   ]
  },
  {
   "cell_type": "code",
   "execution_count": 11,
   "metadata": {
    "collapsed": false
   },
   "outputs": [
    {
     "data": {
      "image/png": "[encoded data removed]",
      "text/plain": [
       "<matplotlib.figure.Figure at 0x116428d90>"
      ]
     },
     "metadata": {},
     "output_type": "display_data"
    }
   ],
   "source": [
    "tmpdf = df[['MOON_PHASE', 'OFFENSE_Code']]\n",
    "ax = sns.countplot(x='MOON_PHASE', data=tmpdf)\n",
    "plt.show()"
   ]
  },
  {
   "cell_type": "code",
   "execution_count": 12,
   "metadata": {
    "collapsed": false
   },
   "outputs": [],
   "source": [
    "# delete feature since it is so uniform\n",
    "if 'MOON_PHASE' in df:\n",
    "    del df['MOON_PHASE']"
   ]
  },
  {
   "cell_type": "markdown",
   "metadata": {},
   "source": [
    "#### One Hot Encode Category Data\n",
    "\n",
    "All categorical data are ordinal or continuous for all attributes except for OFFENSE_Code. This attribute will be one-hot encoded when it is not the target."
   ]
  },
  {
   "cell_type": "code",
   "execution_count": 13,
   "metadata": {
    "collapsed": true
   },
   "outputs": [],
   "source": [
    "def dummy_code(attrib_list, df):\n",
    "    for attrib in (attrib_list):\n",
    "        tmp_df = pd.get_dummies(df[attrib], prefix=attrib)\n",
    "        df = pd.concat((df, tmp_df),axis=1) # add back into the dataframe\n",
    "    \n",
    "        del df[attrib] # remove attribe\n",
    "    return df"
   ]
  },
  {
   "cell_type": "markdown",
   "metadata": {},
   "source": [
    "#### Attribute Representation\n",
    "All attributes are properly represented."
   ]
  },
  {
   "cell_type": "code",
   "execution_count": 14,
   "metadata": {
    "collapsed": false
   },
   "outputs": [
    {
     "name": "stdout",
     "output_type": "stream",
     "text": [
      "<class 'pandas.core.frame.DataFrame'>\n",
      "Int64Index: 36489 entries, 0 to 36488\n",
      "Data columns (total 18 columns):\n",
      "ANC                     36489 non-null int64\n",
      "NEIGHBORHOOD_CLUSTER    36489 non-null int64\n",
      "PSA_ID                  36489 non-null int64\n",
      "OFFENSE_Code            36489 non-null int64\n",
      "CRIME_TYPE              36489 non-null int64\n",
      "Latitude                36489 non-null float64\n",
      "Longitude               36489 non-null float64\n",
      "Max_Temp                36489 non-null int64\n",
      "Min_Temp                36489 non-null int64\n",
      "Max_Humidity            36489 non-null int64\n",
      "Min_Humidity            36489 non-null int64\n",
      "Max_Pressure            36489 non-null float64\n",
      "Min_Pressure            36489 non-null float64\n",
      "Precipitation           36489 non-null float64\n",
      "FOOD_STAMPS             36489 non-null int64\n",
      "CRIME_MONTH             36489 non-null int64\n",
      "CRIME_DAY               36489 non-null int64\n",
      "CRIME_HOUR              36489 non-null int64\n",
      "dtypes: float64(5), int64(13)\n",
      "memory usage: 5.3 MB\n"
     ]
    }
   ],
   "source": [
    "# view attribute representation\n",
    "df.info()"
   ]
  },
  {
   "cell_type": "markdown",
   "metadata": {},
   "source": [
    "#### Example record"
   ]
  },
  {
   "cell_type": "code",
   "execution_count": 15,
   "metadata": {
    "collapsed": false
   },
   "outputs": [
    {
     "data": {
      "text/plain": [
       "ANC                       11.000000\n",
       "NEIGHBORHOOD_CLUSTER       2.000000\n",
       "PSA_ID                   302.000000\n",
       "OFFENSE_Code               3.000000\n",
       "CRIME_TYPE                 2.000000\n",
       "Latitude                  38.927685\n",
       "Longitude                -77.028497\n",
       "Max_Temp                  74.000000\n",
       "Min_Temp                  64.000000\n",
       "Max_Humidity              73.000000\n",
       "Min_Humidity              53.000000\n",
       "Max_Pressure              30.400000\n",
       "Min_Pressure              30.290000\n",
       "Precipitation              0.010000\n",
       "FOOD_STAMPS             2810.000000\n",
       "CRIME_MONTH                9.000000\n",
       "CRIME_DAY                 26.000000\n",
       "CRIME_HOUR                 3.000000\n",
       "Name: 1234, dtype: float64"
      ]
     },
     "execution_count": 15,
     "metadata": {},
     "output_type": "execute_result"
    }
   ],
   "source": [
    "df.ix[1234]"
   ]
  },
  {
   "cell_type": "markdown",
   "metadata": {},
   "source": [
    "#### Setup Features [X] and Target [y]"
   ]
  },
  {
   "cell_type": "markdown",
   "metadata": {},
   "source": [
    "- Create temporary dataframe from master dataframe\n",
    "- Save off target and delete attribute\n",
    "- Dummy code nominal attributes and delete original attribute\n",
    "- Save off features\n",
    "\n",
    "Classification Task 1"
   ]
  },
  {
   "cell_type": "code",
   "execution_count": 16,
   "metadata": {
    "collapsed": false
   },
   "outputs": [
    {
     "name": "stdout",
     "output_type": "stream",
     "text": [
      "<class 'pandas.core.frame.DataFrame'>\n",
      "Int64Index: 36489 entries, 0 to 36488\n",
      "Data columns (total 17 columns):\n",
      "ANC                     36489 non-null int64\n",
      "NEIGHBORHOOD_CLUSTER    36489 non-null int64\n",
      "PSA_ID                  36489 non-null int64\n",
      "CRIME_TYPE              36489 non-null int64\n",
      "Latitude                36489 non-null float64\n",
      "Longitude               36489 non-null float64\n",
      "Max_Temp                36489 non-null int64\n",
      "Min_Temp                36489 non-null int64\n",
      "Max_Humidity            36489 non-null int64\n",
      "Min_Humidity            36489 non-null int64\n",
      "Max_Pressure            36489 non-null float64\n",
      "Min_Pressure            36489 non-null float64\n",
      "Precipitation           36489 non-null float64\n",
      "FOOD_STAMPS             36489 non-null int64\n",
      "CRIME_MONTH             36489 non-null int64\n",
      "CRIME_DAY               36489 non-null int64\n",
      "CRIME_HOUR              36489 non-null int64\n",
      "dtypes: float64(5), int64(12)\n",
      "memory usage: 5.0 MB\n",
      "None\n"
     ]
    }
   ],
   "source": [
    "task1 = df.copy()\n",
    "clf_offense_y = task1['OFFENSE_Code']\n",
    "del task1['OFFENSE_Code']\n",
    "\n",
    "clf_offense_X_names = task1.columns.values\n",
    "clf_offense_X = task1\n",
    "\n",
    "print(task1.info())"
   ]
  },
  {
   "cell_type": "markdown",
   "metadata": {},
   "source": [
    "Classification Task 2"
   ]
  },
  {
   "cell_type": "code",
   "execution_count": 17,
   "metadata": {
    "collapsed": false
   },
   "outputs": [
    {
     "name": "stdout",
     "output_type": "stream",
     "text": [
      "<class 'pandas.core.frame.DataFrame'>\n",
      "Int64Index: 36489 entries, 0 to 36488\n",
      "Data columns (total 25 columns):\n",
      "NEIGHBORHOOD_CLUSTER    36489 non-null int64\n",
      "PSA_ID                  36489 non-null int64\n",
      "CRIME_TYPE              36489 non-null int64\n",
      "Latitude                36489 non-null float64\n",
      "Longitude               36489 non-null float64\n",
      "Max_Temp                36489 non-null int64\n",
      "Min_Temp                36489 non-null int64\n",
      "Max_Humidity            36489 non-null int64\n",
      "Min_Humidity            36489 non-null int64\n",
      "Max_Pressure            36489 non-null float64\n",
      "Min_Pressure            36489 non-null float64\n",
      "Precipitation           36489 non-null float64\n",
      "FOOD_STAMPS             36489 non-null int64\n",
      "CRIME_MONTH             36489 non-null int64\n",
      "CRIME_DAY               36489 non-null int64\n",
      "CRIME_HOUR              36489 non-null int64\n",
      "OFFENSE_Code_1          36489 non-null uint8\n",
      "OFFENSE_Code_2          36489 non-null uint8\n",
      "OFFENSE_Code_3          36489 non-null uint8\n",
      "OFFENSE_Code_4          36489 non-null uint8\n",
      "OFFENSE_Code_5          36489 non-null uint8\n",
      "OFFENSE_Code_6          36489 non-null uint8\n",
      "OFFENSE_Code_7          36489 non-null uint8\n",
      "OFFENSE_Code_8          36489 non-null uint8\n",
      "OFFENSE_Code_9          36489 non-null uint8\n",
      "dtypes: float64(5), int64(11), uint8(9)\n",
      "memory usage: 5.0 MB\n",
      "None\n"
     ]
    }
   ],
   "source": [
    "task2 = df.copy()\n",
    "clf_anc_y = task2['ANC']\n",
    "del task2['ANC']\n",
    "\n",
    "# dummy code OFFENSE_Code\n",
    "task2 = dummy_code(['OFFENSE_Code'], task2)\n",
    "\n",
    "clf_anc_X_names = task2.columns.values\n",
    "clf_anc_X = task2.copy()\n",
    "\n",
    "print(task2.info())"
   ]
  },
  {
   "cell_type": "markdown",
   "metadata": {},
   "source": [
    "#### Size of Dataset and Target Details"
   ]
  },
  {
   "cell_type": "markdown",
   "metadata": {},
   "source": [
    "Classification Task 1"
   ]
  },
  {
   "cell_type": "code",
   "execution_count": 27,
   "metadata": {
    "collapsed": false
   },
   "outputs": [
    {
     "name": "stdout",
     "output_type": "stream",
     "text": [
      "Size of the dataset: (36489, 18)\n",
      "Number of unique offenses: 9\n",
      "['THEFT/OTHER' 'THEFT F/AUTO' 'BURGLARY' 'ASSAULT W/DW' 'ROBBERY'\n",
      " 'MOTOR VEHICLE THEFT' 'HOMICIDE' 'SEX ABUSE' 'ARSON']\n",
      "\n",
      "Offenses Percentage\n",
      "OFFENSE_Code\n",
      "1    38.367727\n",
      "2    30.063855\n",
      "3     6.944559\n",
      "4     6.549919\n",
      "5     9.186330\n",
      "6     7.657102\n",
      "7     0.433007\n",
      "8     0.748171\n",
      "9     0.049330\n",
      "Name: OFFENSE_Code, dtype: float64\n",
      "Mean: 11.1111111111, Standard deviaion: 13.6917157939\n"
     ]
    },
    {
     "data": {
      "image/png": "[encoded data removed]",
      "text/plain": [
       "<matplotlib.figure.Figure at 0x11bc29dd0>"
      ]
     },
     "metadata": {},
     "output_type": "display_data"
    }
   ],
   "source": [
    "print('Size of the dataset:', df.shape)\n",
    "print('Number of unique offenses:', len(df.OFFENSE_Code.unique()))\n",
    "print(clf_offense_descriptions)\n",
    "\n",
    "print('')\n",
    "print('Offenses Percentage')\n",
    "y_series = pd.Series(clf_offense_y)\n",
    "y_tot = y_series.count()\n",
    "y_grp = y_series.groupby(y_series)\n",
    "y_pct = y_grp.count() / y_tot * 100.\n",
    "print(y_pct)\n",
    "print('Mean: {}, Standard deviaion: {}'.format(y_pct.mean(), y_pct.std()))\n",
    "\n",
    "# plot distribution\n",
    "ax = sns.distplot(clf_offense_y)\n",
    "plt.title('Distribution of Offenses')\n",
    "plt.show()"
   ]
  },
  {
   "cell_type": "markdown",
   "metadata": {},
   "source": [
    "Classification Task 2"
   ]
  },
  {
   "cell_type": "code",
   "execution_count": 26,
   "metadata": {
    "collapsed": false
   },
   "outputs": [
    {
     "name": "stdout",
     "output_type": "stream",
     "text": [
      "Size of the dataset: (36489, 18)\n",
      "Number of unique ANC types: 40\n",
      "\n",
      "ANC Percentage\n",
      "ANC\n",
      "11    5.744197\n",
      "12    5.313930\n",
      "13    2.071857\n",
      "14    0.956453\n",
      "21    2.170517\n",
      "22    5.467401\n",
      "23    4.014909\n",
      "24    0.422045\n",
      "25    2.866617\n",
      "26    3.228370\n",
      "32    0.476856\n",
      "33    1.244211\n",
      "34    0.600181\n",
      "35    1.685439\n",
      "36    0.775576\n",
      "37    0.622105\n",
      "41    2.318507\n",
      "42    2.663816\n",
      "43    2.907726\n",
      "44    1.340130\n",
      "51    1.101702\n",
      "52    1.934830\n",
      "53    4.099866\n",
      "54    3.280441\n",
      "55    3.524350\n",
      "61    3.296884\n",
      "62    4.524651\n",
      "63    3.242073\n",
      "64    2.225328\n",
      "65    3.058456\n",
      "72    2.195182\n",
      "73    2.699444\n",
      "74    2.403464\n",
      "75    2.060895\n",
      "76    2.639152\n",
      "81    2.408945\n",
      "82    2.258215\n",
      "83    2.417167\n",
      "84    1.740250\n",
      "85    1.997862\n",
      "Name: ANC, dtype: float64\n",
      "Mean: 2.5, Standard deviaion: 1.32662131416\n"
     ]
    },
    {
     "data": {
      "image/png": "[encoded data removed]",
      "text/plain": [
       "<matplotlib.figure.Figure at 0x11b980450>"
      ]
     },
     "metadata": {},
     "output_type": "display_data"
    }
   ],
   "source": [
    "print('Size of the dataset:', df.shape)\n",
    "print('Number of unique ANC types:', len(df.ANC.unique()))\n",
    "\n",
    "print('')\n",
    "print('ANC Percentage')\n",
    "y_series = pd.Series(clf_anc_y)\n",
    "y_tot = y_series.count()\n",
    "y_grp = y_series.groupby(y_series)\n",
    "y_pct = y_grp.count() / y_tot * 100.\n",
    "print(y_grp.count() / y_tot * 100.)\n",
    "print('Mean: {}, Standard deviaion: {}'.format(y_pct.mean(), y_pct.std()))\n",
    "\n",
    "# plot distribution\n",
    "ax = sns.distplot(clf_anc_y)\n",
    "plt.title('Distribution of ANC')\n",
    "plt.show()"
   ]
  },
  {
   "cell_type": "markdown",
   "metadata": {},
   "source": [
    "#### Normalize "
   ]
  },
  {
   "cell_type": "markdown",
   "metadata": {},
   "source": [
    "Our data has different scales so it will require normalization. We will normalize our data on the training data. This is because we don't want to find out our mean and standard deviation from the testing data. This would be snooping."
   ]
  },
  {
   "cell_type": "code",
   "execution_count": 20,
   "metadata": {
    "collapsed": false
   },
   "outputs": [],
   "source": [
    "# create stratified k-fold cross validation\n",
    "skf = StratifiedKFold(n_splits=5, random_state=0)\n",
    "\n",
    "# create k-fold cross validation\n",
    "kf = KFold(n_splits=5, random_state=0)\n",
    "\n",
    "# classification task 1 scaler\n",
    "clf_offense_scaler = StandardScaler()\n",
    "for train, test in skf.split(clf_offense_X, clf_offense_y):\n",
    "    clf_offense_scaler.fit(clf_offense_X.ix[train])\n",
    "    break # only need one\n",
    "    \n",
    "# classification task 2 scaler\n",
    "clf_anc_scaler = StandardScaler()\n",
    "for train, test in skf.split(clf_anc_X, clf_anc_y):\n",
    "    clf_anc_scaler.fit(clf_anc_X.ix[train])\n",
    "    break # only need one\n",
    "\n",
    "# we now have a scaler to use to transform our data"
   ]
  },
  {
   "cell_type": "markdown",
   "metadata": {},
   "source": [
    "<a id='describe_final_dataset'></a>\n",
    "### 1.2 - Purpose of Data Set\n",
    "From data exploration in Lab 1 and the Mini-Lab, we have two potential response variables: Crime_Type (Property crime vs. Violent crime), and Offense_Code (The more specific type of offense: Homicide, Robbery, Theft, Arson, etc.). The goal is to provide the police with a model that can predict or classify a crime based on the available explanatory variables.\n",
    "\n",
    "One problem with this data is that the victim profile data is missing (due to privacy concerns, and the fact that property crimes are not necessarily because of the owner's profile). The explanatory variables for this dataset focus on time and locations. We believe that the detection/classification of a Violent crime would be based primarily on the victim's characteristics, and not exclusively on the location or time. The other problem with this data is that (fortunately) there are far fewer violent crimes than there are property crimes (approximately 83% of the 36000+ crime reports are against property rather than persons), so we have very imbalanced classification task.\n",
    "\n",
    "Our exploration of the variables seem to indicate that time (not necessarily the day, but the time during the day) is one of the more significant factors. We saw this in the SHIFT variable (which gives the Police duty shift that responded to the call). When we broke the time down into individual hours of the day, we saw a pronounced cyclic effect, where night-time crimes were far more likely than daytime crimes. Weekend crimes were slightly more likely than crimes during the work week, and monthly trends appeared to be opposite intuition (fall crimes were more likely than winter or summer crimes).\n",
    "\n",
    "Location also appeared to have some influence, but the way the locations were grouped altered the effect significantly. Different political areas (Wards and the subordinate Association Neighborhood Committees) showed a different trend than using global locations (Latitude and Longitude). Police districts (and their subordinate Police Service Areas) showed a different trend than the Ward/ANC grouping. This tells us that there are some location effects, but it is difficult to separate them out due to the correlation between geo-physical areas and the different (but overlapping) political mappings.\n",
    "\n",
    "From what we can tell, due to our previous exploration, the existing variables are not able to properly perform the classification tasks alone. As such, we have looked at including other data to attempt to fill in the picture more completely. As mentioned before, victim profile would be interesting and probably very helpful, but we would not be able to get access to that due to privacy concerns. We are examining environmental data (primarily weather data, but we also have access to lunar phases to estimate luminance for night crimes or the psychological impact of lunacy. In addition to weather data, the number of people on foodstamps per ANC was added to provide more population demographic to help with prediction. \n",
    "\n",
    "For this lab, the focus will be on classifying the Offense_Code (type of offense) classification instead of the type of crime, Crime_Type (Property vs. Violent crime) for task 1 and classifying the ANC classification for task 2. Our tasks for this lab will be to leverage the crime data plus other supplimental data to predict the class of crime and the ANC where the crime was comitted."
   ]
  },
  {
   "cell_type": "markdown",
   "metadata": {},
   "source": [
    "<a id=\"modeling_and_evaluation\"></a>\n",
    "## 2 - Modeling and Evaluation\n",
    "\n",
    "<div style='margin-left:10%;margin-right:10%;margin-top:15px;background-color:#d3d3d3;padding:10px;'>\n",
    "<h3>Modeling and Evaluation (<b>70 points total</b>)</h3>\n",
    "    <ul><li>[<b>10 points</b>] [2.1 - Choose and explain your evaluation metrics](#choose_and_explain) that you will use (i.e., accuracy, precision, recall, F-measure, or any metric we have discussed). Why are the measure(s) appropriate for analyzing the results of your modeling? Give a detailed explanation backing up any assertions.</li>\n",
    "    <li>[<b>10 points</b>] [2.2 - Choose the method you will use for dividing your data](#choose_the_method) into training and testing splits (i.e., are you Stratified 10-fold cross validataion? Why?). Explain why your chosen method is appropriate or use more than one method as appropriate. For example, if you are using time series data then you should be using continuous training and testing sets across time.</li>\n",
    "    <li>[<b>20 points</b>] [2.3 - Create three different classification/regression models](#create_models) for each task (e.g., random forest KNN, and SVM for task one and the same or different algorithms for task two). Two modeling techniques must be new (but the third could be SVM or logistic regression). Adjust parameters as appropriate to increase generalization performance using your chosen metric. You must investigate different parameters of the algorithms!</li>\n",
    "    <li>[<b>10 points</b>] [2.4 - Analyze the results using your chosen method of evaluation](#analyze_results). Use visualizations of the results to bolster the analysis. Explain any visuals and analyze why they are interesting to someone that might use this model.</li>\n",
    "    <li>[<b>10 points</b>] [2.5 - Discuss the advantages of each model](#discuss_models) for each classification task, if any. If there are not advantages, explain why. Is any model better than another? Is the difference significant with 95% confidence? Use proper statistical comparison methods. You must use statistical comparison techniques - be sure they are appropriate for your chosen method of validation.</li>\n",
    "    <li>[<b>10 points</b>] [2.6 - Which attributes from your analysis are most important](#important_attributes)? Use proper methods discussed in class to evaluate the importance of different attributes. Discuss the results and hypothesis about why certain attributes are more important than others for a given classification task.</li>\n",
    "   </ul>\n",
    "</div>\n",
    "\n"
   ]
  },
  {
   "cell_type": "markdown",
   "metadata": {},
   "source": [
    "<a id='choose_and_explain'></a>\n",
    "### 2.1 - Choose and explain your evaluation metrics\n",
    "Choose and explain your evaluation metrics that you will use (i.e., accuracy, precision, recall, F-measure, or any metric we have discussed). Why are the measure(s) appropriate for analyzing the results of your modeling? Give a detailed explanation backing up any assertions. **(10 points total)**"
   ]
  },
  {
   "cell_type": "markdown",
   "metadata": {},
   "source": [
    "#### Answer\n",
    "Our high-level goal or business metric of the Washington D.C. crime dataset is to classify crime offense and the ANC the crime occurred.\n",
    "\n",
    "Both classification tasks are multiclass problem. For the offense classification, the class frequency is shown below. The class is heavily imbalanced with a standard deviation of 13.7 while task 2 classification is more uniform with a standard deviation of 1.3. \n",
    "\n",
    "With an imbalanced, multiclass problem, it is important to limit the false positives. Therefore, precision will be an important measure to ensure the classifier doesn't label a sample positive that is negative.  For both tasks, the average precision score will be used to determine the best algorithm. It is a measure of the area under the precision-recall curve. Once a best algorithm is chosen, its confusion matrix, precision, and recall will be determined. An example confusion matrix is shown below.\n",
    "\n",
    "![Confusion Matrix](images/confusion_matrix.png \"Example Confusion Matrix\") \n",
    "<p style='text-align: center;'>\n",
    "Example Confusion Matrix\n",
    "</p>"
   ]
  },
  {
   "cell_type": "markdown",
   "metadata": {},
   "source": [
    "<a id='choose_the_method'></a>\n",
    "### 2.2 - Choose the method you will use for dividing your data\n",
    "Choose the method you will use for dividing your data into training and testing splits (i.e., are you Stratified 10-fold cross validataion? Why?). Explain why your chosen method is appropriate or use more than one method as appropriate. For example, if you are using time series data then you should be using continuous training and testing sets across time. **(10 points total)**"
   ]
  },
  {
   "cell_type": "code",
   "execution_count": null,
   "metadata": {
    "collapsed": true
   },
   "outputs": [],
   "source": []
  },
  {
   "cell_type": "markdown",
   "metadata": {},
   "source": [
    "#### Answer\n",
    "A simple train/test split provides a split of the data preferrably random into a buckets to train a model and then test it. With this approach only one model is trained and tested. If we have imbalanced classes like our dataset, then we might end up with a training model with a poor representation of our dataset. Or, the test dataset might not have enough class representation to assess the model.\n",
    "\n",
    "We will leverage a train/test split of 70% stratified and then a 3-fold stratified cross validation approach to select the optimal algorithm and parameters. Once the algorithm is found, it will be retrained with a 3-fold stratified cross validation where 2/3 of the data is used to train the model. The histogram plots provide illustration."
   ]
  },
  {
   "cell_type": "code",
   "execution_count": null,
   "metadata": {
    "collapsed": false
   },
   "outputs": [],
   "source": [
    "def plot_class_dist(train, test, title):\n",
    "    fig, (ax1, ax2) = plt.subplots(1, 2, sharey=True)\n",
    "    ax1.hist(train, bins=len(df.OFFENSE_Code.unique()))\n",
    "    ax1.set_title('Y Training')\n",
    "    ax1.set_xticklabels(clf_target_desc, rotation=40)\n",
    "    ax2.hist(test, bins=len(df.OFFENSE_Code.unique()))\n",
    "    ax2.set_title('Y Test')\n",
    "    ax2.set_xticklabels(clf_target_desc.unique(), rotation=40)\n",
    "    fig.suptitle(title)\n",
    "    fig.text(.01, .5, 'Frequency', va='center', rotation='vertical')\n",
    "    plt.show()    \n",
    "    \n",
    "# train_test\n",
    "X_train, X_test, y_train, y_test = train_test_split(clf_X, clf_y, test_size=.5, random_state=0)\n",
    "plot_class_dist(y_train, y_test, 'Train Test Split 50%')\n",
    "\n",
    "# train_test with stratified\n",
    "X_train, X_test, y_train, y_test = train_test_split(clf_X, clf_y, test_size=.5, random_state=0, stratify=clf_y)\n",
    "plot_class_dist(y_train, y_test, 'Train Test Split 50% with Stratified')\n",
    "\n",
    "# k-fold\n",
    "from sklearn.model_selection import KFold\n",
    "kf = KFold(n_splits=2, random_state=0)\n",
    "for train, test in kf.split(clf_X, clf_y):  \n",
    "    plot_class_dist(clf_y.ix[train], clf_y.ix[test], '2-fold')\n",
    "    break # only plot one\n",
    "    \n",
    "# stratified k-fold\n",
    "skf = StratifiedKFold(n_splits=2, random_state=0)\n",
    "for train, test in skf.split(clf_X, clf_y):  \n",
    "    plot_class_dist(clf_y.ix[train], clf_y.ix[test], '2-fold Stratified')\n",
    "    break # only plot one"
   ]
  },
  {
   "cell_type": "markdown",
   "metadata": {},
   "source": [
    "#### 2.2.2 Regression Task\n",
    "A cross validation (CV) approach is more preferred for us to ensure each record is in the training and testing dataset exactly once. CV will split the data into folds where each fold is the test data, and the remaining folds are used to train the model. If we use a 3-fold cross validation, then we can use 2/3 of the data to train the model often resulting in a more accurate model."
   ]
  },
  {
   "cell_type": "markdown",
   "metadata": {},
   "source": [
    "<a id='create_models'></a>\n",
    "### 2.3 - Create three different classification/regression models\n",
    "Create three different classification/regression models for each task (e.g., random forest, KNN, and SVM for task one and the same or different algorithms for task two). Two modeling techniques must be new (but the third could be SVM or logistic regression). Adjust parameters as appropriate to increase generalization performance using your chosen metric. You must investigate different parameters of the algorithms! **(20 points total)**"
   ]
  },
  {
   "cell_type": "markdown",
   "metadata": {},
   "source": [
    "#### 2.3.1 Classification Task"
   ]
  },
  {
   "cell_type": "markdown",
   "metadata": {},
   "source": [
    "Train and test three algorithms to classify offense code. The three algorithms tested with various parameters are KNeighborsClassifer, RandomForestClassifier, and GaussianNB. Several parameters were adjusted utilizing GridSearchCV to determine which classifier and params were the best based on its score against the test data.\n",
    "\n",
    "The data was scaled and dimensions reduced for KNeighborsClassifier and GaussianNB. "
   ]
  },
  {
   "cell_type": "code",
   "execution_count": null,
   "metadata": {
    "collapsed": false
   },
   "outputs": [],
   "source": [
    "# CAUTION! This cell takes a while to run.\n",
    "\n",
    "# # create pipeline of steps\n",
    "# pipe = Pipeline([('scale', StandardScaler()),\n",
    "#                  ('reduce', PCA(svd_solver='randomized')),\n",
    "#                  ('clf', KNeighborsClassifier())])\n",
    "\n",
    "# # train and test three algorithms to classify target\n",
    "# param_grid = [{'clf': [KNeighborsClassifier(algorithm='auto', n_jobs=-1)],\n",
    "#               'clf__n_neighbors': [100, 150, 200],\n",
    "#               'clf__weights': ['uniform', 'distance']},\n",
    "#               {'clf': [RandomForestClassifier(n_estimators=150, \n",
    "#                                               n_jobs=-1, class_weight='balanced')],\n",
    "#                'scale': [None],\n",
    "#                'clf__n_estimators': [300, 350, 400]},\n",
    "#               {'clf': [GaussianNB()]}]\n",
    "\n",
    "# # split data 70/30 stratified\n",
    "# X_train, X_test, y_train, y_test = train_test_split(clf_X, clf_y, test_size=.3, random_state=0, stratify=clf_y)\n",
    "# grid = GridSearchCV(pipe, param_grid=param_grid, cv=3)\n",
    "# %timeit grid.fit(X_train, y_train)\n",
    "\n",
    "# print('Best params:\\n{}\\n'.format(grid.best_params_))\n",
    "# print('Best cross-validation score: {:.2f}'.format(grid.best_score_))\n",
    "# print('Test set score: {:.2f}'.format(grid.score(X_test, y_test)))"
   ]
  },
  {
   "cell_type": "markdown",
   "metadata": {},
   "source": [
    "Run best algorithm with best parameters"
   ]
  },
  {
   "cell_type": "code",
   "execution_count": null,
   "metadata": {
    "collapsed": false
   },
   "outputs": [],
   "source": [
    "# leveraging concept from 06 Classification notebook\n",
    "yhat = np.zeros(clf_y.shape)\n",
    "\n",
    "# chosen classifier\n",
    "clf = RandomForestClassifier(n_estimators=300,\n",
    "                             n_jobs=-1, class_weight='balanced')\n",
    "\n",
    "skf = StratifiedKFold(n_splits=3, random_state=0)\n",
    "for train, test in skf.split(clf_X, clf_y):  \n",
    "    %timeit clf.fit(clf_X.ix[train], clf_y.ix[train])\n",
    "    %timeit yhat[test] = clf.predict(clf_X.ix[test])\n",
    "\n",
    "print('Random Forest total accuracy', metrics.accuracy_score(clf_y, yhat))"
   ]
  },
  {
   "cell_type": "markdown",
   "metadata": {},
   "source": [
    "#### 2.3.2 Regression Task"
   ]
  },
  {
   "cell_type": "code",
   "execution_count": null,
   "metadata": {
    "collapsed": true
   },
   "outputs": [],
   "source": []
  },
  {
   "cell_type": "markdown",
   "metadata": {},
   "source": [
    "<a id='analyze_results'></a>\n",
    "### 2.4 - Analyze the results using your chosen method of evaluation\n",
    "Analyze the results using your chosen method of evaluation. Use visualizations of the results to bolster the analysis. Explain any visuals and analyze why they are interesting to someone that might use this model. **(10 points total)**"
   ]
  },
  {
   "cell_type": "markdown",
   "metadata": {},
   "source": [
    "#### 2.4.1 Classification\n",
    "\n",
    "The confusion matrix heatmap and classification report show that our classifier performed poorly on predicting the offense code. The overall accuracy for the classifer is 15%. The misclassification rate is 85%. The average recall was 15%, and the average precision was 19%. In summary, we do not have data that can accuractely classify a crime offense.\n",
    "\n",
    "The heatmap confusion matrix is an enhancement over the out of the box confusion matrix with not column/row labels and no color indicator for the third dimension. This plot makes it easier for the viewer to see where the concentration of data lies. A good classifier would have a darker color diaganol incidating that True and Predicted correlate.\n",
    "\n",
    "The heatmap classification report is an enhancement over the out of the box classification report regarding its display of precision and recall for the classes. This plot makes it easier for the viewer to see where the concentraction of data lies regarding the classes. In addition, the actual class names eliminates manually mapping a number to a name."
   ]
  },
  {
   "cell_type": "code",
   "execution_count": null,
   "metadata": {
    "collapsed": false
   },
   "outputs": [],
   "source": [
    "print('Random Forest total accuracy', metrics.accuracy_score(clf_y, yhat))\n",
    "print('')\n",
    "\n",
    "# print a crosstab confusion matrix\n",
    "ct = pd.crosstab(clf_y, yhat.astype(int), rownames=['True'], colnames=['Predicted'], margins=True)\n",
    "ax = sns.heatmap(ct, annot=True, fmt='d', linewidths=.1)\n",
    "ax.set_title('Confusion Heatmap')\n",
    "plt.show()\n",
    "print('')\n",
    "\n",
    "# nicer classification report\n",
    "precision_array = metrics.precision_score(clf_y, yhat, average=None)\n",
    "recall_array = metrics.recall_score(clf_y, yhat, average=None)\n",
    "\n",
    "df_classification_report = pd.DataFrame({'precision':precision_array, 'recall':recall_array}, \n",
    "                                        index=clf_target_desc.unique())\n",
    "\n",
    "\n",
    "ax = sns.heatmap(df_classification_report, annot=True, fmt='.2f', linewidths=.1)\n",
    "ax.set_title('Classification Heatmap')\n",
    "plt.show()"
   ]
  },
  {
   "cell_type": "markdown",
   "metadata": {},
   "source": [
    "#### 2.4.2 Regression"
   ]
  },
  {
   "cell_type": "markdown",
   "metadata": {},
   "source": [
    "<a id='discuss_models'></a>\n",
    "### 2.5 - Discuss the advantages of each model\n",
    "Discuss the advantages of each model for each classification task, if any. If there are not advantages, explain why. Is any model better than another? Is the difference significant with 95% confidence? Use proper statistical comparison methods. You must use statistical comparison techniques - be sure they are appropriate for your chosen method of validation. **(10 points total)**"
   ]
  },
  {
   "cell_type": "markdown",
   "metadata": {},
   "source": [
    "#### 2.5.1 Classification\n",
    "TODO"
   ]
  },
  {
   "cell_type": "markdown",
   "metadata": {},
   "source": [
    "#### 2.5.2 Regression"
   ]
  },
  {
   "cell_type": "markdown",
   "metadata": {},
   "source": [
    "<a id='important_attributes'></a>\n",
    "### 2.6 - Which attributes from your analysis are most important\n",
    "Which attributes from your analysis are most important? Use proper methods discussed in class to evaluate the importance of different attributes. Discuss the results and hypothesis about why certain attributes are more important than others for a given classification task. **(10 points total)**"
   ]
  },
  {
   "cell_type": "markdown",
   "metadata": {},
   "source": [
    "#### 2.6.1 Classification\n",
    "Longitude, Latitude, and CRIME_HOUR are the most important attributes or features in classifying the type of offense of a crime."
   ]
  },
  {
   "cell_type": "code",
   "execution_count": null,
   "metadata": {
    "collapsed": false
   },
   "outputs": [],
   "source": [
    "print('Important Features for Classification')\n",
    "print(clf.feature_importances_)\n",
    "print('')\n",
    "\n",
    "print(clf_X_offense_namesclf_X_names)\n",
    "\n",
    "fig, ax = plt.subplots()\n",
    "plt.title('Bar Chart of Feature Importance')\n",
    "ax.set_xticks(range(len(clf.feature_importances_)))\n",
    "ax.set_xticklabels(clf_X_offense_names, rotation=90)\n",
    "plt.bar(range(len(clf.feature_importances_)), clf.feature_importances_, align='center')\n",
    "plt.show()"
   ]
  },
  {
   "cell_type": "markdown",
   "metadata": {},
   "source": [
    "<a id=\"deployment\"></a>\n",
    "## 3 - Deployment\n",
    "\n",
    "<div style='margin-left:10%;margin-right:10%;margin-top:15px;background-color:#d3d3d3;padding:10px;'>\n",
    "<h3>Deployment (<b>5 points total</b>)</h3>\n",
    "    <ul><li>[3.1 - How useful is your model](#model_usefulness) for interested parties (i.e., the companies or organizations that might want to use it for prediction)?</li>\n",
    "    <li>[3.2 - How would you measure the model's value](#model_value) if it was used by these parties?</li>\n",
    "    <li>[3.3 - How would you deploy your model](#model_deploy) for interested parties?</li>\n",
    "    <li>[3.4 - What other data should be collected](#other_data)?</li>\n",
    "    <li>[3.5 - How often would the model need to be updated](#model_update), etc.?</li>\n",
    "   </ul>\n",
    "</div>"
   ]
  },
  {
   "cell_type": "markdown",
   "metadata": {},
   "source": [
    "<a id='model_usefulness'></a>\n",
    "### 3.1 - How useful is your model\n",
    "How useful is your model for interested parties (i.e., the companies or organizations that might want to use it for prediction)?"
   ]
  },
  {
   "cell_type": "markdown",
   "metadata": {},
   "source": [
    "<a id='model_value'></a>\n",
    "### 3.2 - How would you measure the model's value\n",
    "How would you measure the model's value if it was used by these parties?"
   ]
  },
  {
   "cell_type": "markdown",
   "metadata": {},
   "source": [
    "<a id='model_deploy'></a>\n",
    "### 3.3 - How would you deploy your model\n",
    "How would you deploy your model for interested parties?"
   ]
  },
  {
   "cell_type": "markdown",
   "metadata": {},
   "source": [
    "<a id='other_data'></a>\n",
    "### 3.4 - What other data should be collected\n",
    "What other data should be collected?"
   ]
  },
  {
   "cell_type": "markdown",
   "metadata": {},
   "source": [
    "<a id='model_update'></a>\n",
    "### 3.5 - How often would the model need to be updated\n",
    "How often would the model need to be updated, etc.?"
   ]
  },
  {
   "cell_type": "markdown",
   "metadata": {},
   "source": [
    "<a id=\"exceptional\"></a>\n",
    "## 4 - Exceptional Work\n",
    "\n",
    "<div style='margin-left:10%;margin-right:10%;margin-top:15px;background-color:#d3d3d3;padding:10px;'>\n",
    "<h3>Exceptional Work (<b>10 points total</b>)</h3>\n",
    "   <p>Free reign to provide additional analysis. The following are possible ideas:</p>\n",
    "   <ul>\n",
    "       <li>Grid search parameters in a parallelized fashion and visualize the performances across attributes. Which parameters are most significant for making a good model for each classification algorithm?</li>\n",
    "       <li>Apply Synthetic Minority Over-sampling Technique (SMOTE)</li>\n",
    "       <li>Utilize pipeline</li>\n",
    "       <li>Visualize feature importance</li>\n",
    "       <li>Utilize R implementation of ADA</li>\n",
    "   </ul>\n",
    "</div>"
   ]
  },
  {
   "cell_type": "markdown",
   "metadata": {},
   "source": [
    "Candidate exceptional work:\n",
    "- Pulled new demographic data (weather and food stamps) to provide additional features for prediction.\n",
    "- Utilization of pipeline and grid search to search over parameters for all processing steps at once\n",
    "\n",
    "Pipeline allows \"gluing\" together multiple processing steps into a single estimator allowing us to be sure the data is split during cross validation before any preprocessing. This ensure knowledge gained from the dataset is only on the training set or fold."
   ]
  },
  {
   "cell_type": "code",
   "execution_count": null,
   "metadata": {
    "collapsed": true
   },
   "outputs": [],
   "source": []
  }
 ],
 "metadata": {
  "anaconda-cloud": {},
  "kernelspec": {
   "display_name": "Python [conda env:python2]",
   "language": "python",
   "name": "conda-env-python2-py"
  },
  "language_info": {
   "codemirror_mode": {
    "name": "ipython",
    "version": 2
   },
   "file_extension": ".py",
   "mimetype": "text/x-python",
   "name": "python",
   "nbconvert_exporter": "python",
   "pygments_lexer": "ipython2",
   "version": "2.7.10"
  },
  "nbpresent": {
   "slides": {},
   "themes": {
    "default": "cb59102b-739b-46ff-bf8b-c9d58641059b",
    "theme": {
     "8100c8f4-ae13-4c61-98d1-f3588e841503": {
      "id": "8100c8f4-ae13-4c61-98d1-f3588e841503",
      "palette": {
       "19cc588f-0593-49c9-9f4b-e4d7cc113b1c": {
        "id": "19cc588f-0593-49c9-9f4b-e4d7cc113b1c",
        "rgb": [
         252,
         252,
         252
        ]
       },
       "31af15d2-7e15-44c5-ab5e-e04b16a89eff": {
        "id": "31af15d2-7e15-44c5-ab5e-e04b16a89eff",
        "rgb": [
         68,
         68,
         68
        ]
       },
       "50f92c45-a630-455b-aec3-788680ec7410": {
        "id": "50f92c45-a630-455b-aec3-788680ec7410",
        "rgb": [
         155,
         177,
         192
        ]
       },
       "c5cc3653-2ee1-402a-aba2-7caae1da4f6c": {
        "id": "c5cc3653-2ee1-402a-aba2-7caae1da4f6c",
        "rgb": [
         43,
         126,
         184
        ]
       },
       "efa7f048-9acb-414c-8b04-a26811511a21": {
        "id": "efa7f048-9acb-414c-8b04-a26811511a21",
        "rgb": [
         25.118061674008803,
         73.60176211453744,
         107.4819383259912
        ]
       }
      },
      "rules": {
       "blockquote": {
        "color": "50f92c45-a630-455b-aec3-788680ec7410"
       },
       "code": {
        "font-family": "Anonymous Pro"
       },
       "h1": {
        "color": "c5cc3653-2ee1-402a-aba2-7caae1da4f6c",
        "font-family": "Lato",
        "font-size": 8
       },
       "h2": {
        "color": "c5cc3653-2ee1-402a-aba2-7caae1da4f6c",
        "font-family": "Lato",
        "font-size": 6
       },
       "h3": {
        "color": "50f92c45-a630-455b-aec3-788680ec7410",
        "font-family": "Lato",
        "font-size": 5.5
       },
       "h4": {
        "color": "c5cc3653-2ee1-402a-aba2-7caae1da4f6c",
        "font-family": "Lato",
        "font-size": 5
       },
       "h5": {
        "font-family": "Lato"
       },
       "h6": {
        "font-family": "Lato"
       },
       "h7": {
        "font-family": "Lato"
       },
       "pre": {
        "font-family": "Anonymous Pro",
        "font-size": 4
       }
      },
      "text-base": {
       "font-family": "Merriweather",
       "font-size": 4
      }
     },
     "cb59102b-739b-46ff-bf8b-c9d58641059b": {
      "backgrounds": {
       "dc7afa04-bf90-40b1-82a5-726e3cff5267": {
        "background-color": "31af15d2-7e15-44c5-ab5e-e04b16a89eff",
        "id": "dc7afa04-bf90-40b1-82a5-726e3cff5267"
       }
      },
      "id": "cb59102b-739b-46ff-bf8b-c9d58641059b",
      "palette": {
       "19cc588f-0593-49c9-9f4b-e4d7cc113b1c": {
        "id": "19cc588f-0593-49c9-9f4b-e4d7cc113b1c",
        "rgb": [
         252,
         252,
         252
        ]
       },
       "31af15d2-7e15-44c5-ab5e-e04b16a89eff": {
        "id": "31af15d2-7e15-44c5-ab5e-e04b16a89eff",
        "rgb": [
         68,
         68,
         68
        ]
       },
       "50f92c45-a630-455b-aec3-788680ec7410": {
        "id": "50f92c45-a630-455b-aec3-788680ec7410",
        "rgb": [
         197,
         226,
         245
        ]
       },
       "c5cc3653-2ee1-402a-aba2-7caae1da4f6c": {
        "id": "c5cc3653-2ee1-402a-aba2-7caae1da4f6c",
        "rgb": [
         43,
         126,
         184
        ]
       },
       "efa7f048-9acb-414c-8b04-a26811511a21": {
        "id": "efa7f048-9acb-414c-8b04-a26811511a21",
        "rgb": [
         25.118061674008803,
         73.60176211453744,
         107.4819383259912
        ]
       }
      },
      "rules": {
       "a": {
        "color": "19cc588f-0593-49c9-9f4b-e4d7cc113b1c"
       },
       "blockquote": {
        "color": "50f92c45-a630-455b-aec3-788680ec7410",
        "font-size": 3
       },
       "code": {
        "font-family": "Anonymous Pro"
       },
       "h1": {
        "color": "19cc588f-0593-49c9-9f4b-e4d7cc113b1c",
        "font-family": "Merriweather",
        "font-size": 8
       },
       "h2": {
        "color": "19cc588f-0593-49c9-9f4b-e4d7cc113b1c",
        "font-family": "Merriweather",
        "font-size": 6
       },
       "h3": {
        "color": "50f92c45-a630-455b-aec3-788680ec7410",
        "font-family": "Lato",
        "font-size": 5.5
       },
       "h4": {
        "color": "c5cc3653-2ee1-402a-aba2-7caae1da4f6c",
        "font-family": "Lato",
        "font-size": 5
       },
       "h5": {
        "font-family": "Lato"
       },
       "h6": {
        "font-family": "Lato"
       },
       "h7": {
        "font-family": "Lato"
       },
       "li": {
        "color": "50f92c45-a630-455b-aec3-788680ec7410",
        "font-size": 3.25
       },
       "pre": {
        "font-family": "Anonymous Pro",
        "font-size": 4
       }
      },
      "text-base": {
       "color": "19cc588f-0593-49c9-9f4b-e4d7cc113b1c",
       "font-family": "Lato",
       "font-size": 4
      }
     }
    }
   }
  }
 },
 "nbformat": 4,
 "nbformat_minor": 0
}
